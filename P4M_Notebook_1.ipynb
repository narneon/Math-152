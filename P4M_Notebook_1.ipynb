{
  "nbformat": 4,
  "nbformat_minor": 0,
  "metadata": {
    "kernelspec": {
      "display_name": "Python 3",
      "language": "python",
      "name": "python3"
    },
    "language_info": {
      "codemirror_mode": {
        "name": "ipython",
        "version": 3
      },
      "file_extension": ".py",
      "mimetype": "text/x-python",
      "name": "python",
      "nbconvert_exporter": "python",
      "pygments_lexer": "ipython3",
      "version": "3.6.7"
    },
    "colab": {
      "name": "P4M_Notebook1.ipynb",
      "provenance": [],
      "toc_visible": true,
      "include_colab_link": true
    }
  },
  "cells": [
    {
      "cell_type": "markdown",
      "metadata": {
        "id": "view-in-github",
        "colab_type": "text"
      },
      "source": [
        "<a href=\"https://colab.research.google.com/github/narneon/Math-152/blob/main/P4M_Notebook_1.ipynb\" target=\"_parent\"><img src=\"https://colab.research.google.com/assets/colab-badge.svg\" alt=\"Open In Colab\"/></a>"
      ]
    },
    {
      "cell_type": "markdown",
      "metadata": {
        "id": "aLsfIWSoU5x_"
      },
      "source": [
        "#  Computing with Python:  an Introduction"
      ]
    },
    {
      "cell_type": "markdown",
      "metadata": {
        "id": "AXTRG_T1U5yD"
      },
      "source": [
        "Welcome to programming!\n",
        "\n",
        "What is the difference between *Python* and a calculator?  We begin this first lesson by showing how Python can be used **as** a calculator, and we move into one of the most important programming structures -- the **loop**.  Loops allow computers to carry out repetetive computations, with just a few commands.\n",
        "\n",
        "To navigate this notebook, you might wish to click on the Table of Contents icon (near top-left of the Google Colab window).  Then you can expand the sections to work on each one.\n",
        "\n",
        "Remember to save your work frequently on your personal GitHub repository.\n",
        "\n",
        "You do **not** need to complete every exercise to get full credit for this assignment.  Please **do** try to make it to the end of the notebook to learn all the concepts, and attempt as many exercises as time permits."
      ]
    },
    {
      "cell_type": "markdown",
      "metadata": {
        "id": "-y8Iz5LaU5yD"
      },
      "source": [
        "# Python as a calculator"
      ]
    },
    {
      "cell_type": "markdown",
      "metadata": {
        "id": "6rbqov7pU5yE"
      },
      "source": [
        "Different kinds of data are stored as different *types* in Python.  For example, if you wish to work with integers, your data is typically stored as an *int*.  A real number might be stored as a *float*.  There are types for booleans (True/False data), strings (like \"Hello World!\"), and many more we will see.  \n",
        "\n",
        "A more complete reference for Python's numerical types and arithmetic operations can be found in the [official Python documentation](https://docs.python.org/3/library/stdtypes.html).  The [official Python tutorial](https://docs.python.org/3/tutorial/introduction.html) is also a great place to start.\n",
        "\n",
        "Python allows you to perform arithmetic operations:  addition, subtraction, multiplication, and division, on numerical types.  The operation symbols are `+`, `-`, `*`, and `/`.   Evaluate each of the following cells to see how Python performs operations on *integers*.  \n",
        "\n",
        "To evaluate the cell, click anywhere within the cell to select it and use the keyboard shortcut *Shift-Enter* to evaluate.  But as you go through this and later lessons, try to *predict* what will happen when you evaluate the cell before you hit Shift-Enter.  Don't just click click click!  Think for a few seconds or a minute, and then Shift-Enter."
      ]
    },
    {
      "cell_type": "code",
      "metadata": {
        "scrolled": true,
        "id": "yqyWbMp-U5yE",
        "colab": {
          "base_uri": "https://localhost:8080/"
        },
        "outputId": "42b0c9e1-7790-481b-fa0e-a7f8a996617c"
      },
      "source": [
        "2 + 3"
      ],
      "execution_count": null,
      "outputs": [
        {
          "output_type": "execute_result",
          "data": {
            "text/plain": [
              "5"
            ]
          },
          "metadata": {},
          "execution_count": 27
        }
      ]
    },
    {
      "cell_type": "code",
      "metadata": {
        "scrolled": true,
        "id": "ITtBZC2kU5yE",
        "colab": {
          "base_uri": "https://localhost:8080/"
        },
        "outputId": "ce7da9bf-756a-4724-aaa8-5382005c6048"
      },
      "source": [
        "2 * 3"
      ],
      "execution_count": null,
      "outputs": [
        {
          "output_type": "execute_result",
          "data": {
            "text/plain": [
              "6"
            ]
          },
          "metadata": {},
          "execution_count": 28
        }
      ]
    },
    {
      "cell_type": "code",
      "metadata": {
        "id": "mS2JIy1oU5yE",
        "colab": {
          "base_uri": "https://localhost:8080/"
        },
        "outputId": "fcf0f9a9-728b-43ae-ae56-e5b973a014a3"
      },
      "source": [
        "5 - 11"
      ],
      "execution_count": null,
      "outputs": [
        {
          "output_type": "execute_result",
          "data": {
            "text/plain": [
              "-6"
            ]
          },
          "metadata": {},
          "execution_count": 29
        }
      ]
    },
    {
      "cell_type": "code",
      "metadata": {
        "id": "WRjeVm8rU5yF",
        "colab": {
          "base_uri": "https://localhost:8080/"
        },
        "outputId": "4da2df17-84c4-470e-9e24-004d200c2fa5"
      },
      "source": [
        "5.0 - 11"
      ],
      "execution_count": null,
      "outputs": [
        {
          "output_type": "execute_result",
          "data": {
            "text/plain": [
              "-6.0"
            ]
          },
          "metadata": {},
          "execution_count": 30
        }
      ]
    },
    {
      "cell_type": "code",
      "metadata": {
        "id": "Q9pdWY_hU5yF",
        "colab": {
          "base_uri": "https://localhost:8080/"
        },
        "outputId": "fc1bb0a6-881d-4cc6-f42a-dcff2c79cff5"
      },
      "source": [
        "5 / 11"
      ],
      "execution_count": null,
      "outputs": [
        {
          "output_type": "execute_result",
          "data": {
            "text/plain": [
              "0.45454545454545453"
            ]
          },
          "metadata": {},
          "execution_count": 31
        }
      ]
    },
    {
      "cell_type": "code",
      "metadata": {
        "id": "TPzva1UXU5yF",
        "colab": {
          "base_uri": "https://localhost:8080/"
        },
        "outputId": "0dd9e9ce-b4d1-4821-8fe2-6db5f751d8f1"
      },
      "source": [
        "6 / 3"
      ],
      "execution_count": null,
      "outputs": [
        {
          "output_type": "execute_result",
          "data": {
            "text/plain": [
              "2.0"
            ]
          },
          "metadata": {},
          "execution_count": 32
        }
      ]
    },
    {
      "cell_type": "code",
      "metadata": {
        "id": "GUmGnpHVU5yF",
        "colab": {
          "base_uri": "https://localhost:8080/"
        },
        "outputId": "69fc108c-abf4-4d85-c7ba-252bb707668c"
      },
      "source": [
        "5 // 11"
      ],
      "execution_count": null,
      "outputs": [
        {
          "output_type": "execute_result",
          "data": {
            "text/plain": [
              "0"
            ]
          },
          "metadata": {},
          "execution_count": 33
        }
      ]
    },
    {
      "cell_type": "code",
      "metadata": {
        "id": "JEXb5uPQU5yF",
        "colab": {
          "base_uri": "https://localhost:8080/"
        },
        "outputId": "8e936777-bd98-4d19-d3a7-2508aed69dcc"
      },
      "source": [
        "6 // 3"
      ],
      "execution_count": null,
      "outputs": [
        {
          "output_type": "execute_result",
          "data": {
            "text/plain": [
              "2"
            ]
          },
          "metadata": {},
          "execution_count": 34
        }
      ]
    },
    {
      "cell_type": "markdown",
      "metadata": {
        "id": "o4t4Yw_XU5yF"
      },
      "source": [
        "The results are probably not too surprising, though the last two require a bit of explanation.  Python *interprets* the input number 5 as an *int* (integer) and 5.0 as a *float*.  \"Float\" stands for \"floating point number,\" which are decimal approximations to real numbers.  The word \"float\" refers to the fact that the decimal (or binary, for computers) point can float around (as in 1.2345 or 12.345 or 123.45 or 1234.5 or 0.00012345).  There are deep computational issues related to how computers handle decimal approximations, and you can [read about the IEEE standards](https://en.wikipedia.org/wiki/IEEE_754) if you're interested.\n",
        "\n",
        "Python enables different kinds of division.  The single-slash division in Python 3.x gives a floating point approximation of the quotient.  That's why `5 / 11` and `6 / 3` both output floats.  On the other hand, `5 // 11` and `6 // 3` yield integer outputs (rounding down) -- this is useful, but one has to be careful!\n",
        "\n",
        "In fact the designers of Python changed their mind.  **This tutorial assumes that you are using Python 3.x.**  If you are using Python 2.x, the command `5 / 11` would output zero."
      ]
    },
    {
      "cell_type": "code",
      "metadata": {
        "id": "msOx7ga_U5yF",
        "colab": {
          "base_uri": "https://localhost:8080/"
        },
        "outputId": "82f64f17-a4c6-42d2-aed8-3576793c7f6a"
      },
      "source": [
        "-12 // 5  # What will this output?  Guess before evaluating!"
      ],
      "execution_count": null,
      "outputs": [
        {
          "output_type": "execute_result",
          "data": {
            "text/plain": [
              "-3"
            ]
          },
          "metadata": {},
          "execution_count": 35
        }
      ]
    },
    {
      "cell_type": "markdown",
      "metadata": {
        "id": "6m4OcRYfU5yG"
      },
      "source": [
        "Why use integer division `//` and why use floating point division?  In practice, integer division is typically a faster operation.  So if you only need the rounded result (and that will often be the case), use integer division.  It will run much faster than carrying out floating point division then manually rounding down.\n",
        "\n",
        "Observe that floating point operations involve approximation.  The result of `5.0/11.0` might not be what you expect in the last digit.  Over time, especially with repeated operations, *floating point approximation* errors can add up!"
      ]
    },
    {
      "cell_type": "markdown",
      "metadata": {
        "id": "uAyV-QWrU5yG"
      },
      "source": [
        "You might be wondering about the little [XX] and [XX] prompts in the code cells above.  What is their purpose?  Guess what the following line will do."
      ]
    },
    {
      "cell_type": "code",
      "metadata": {
        "id": "vgnp3B3JU5yG",
        "colab": {
          "base_uri": "https://localhost:8080/"
        },
        "outputId": "7a23af56-281f-47eb-9efc-3ecb8c5a330f"
      },
      "source": [
        "Out[4] + Out[5]"
      ],
      "execution_count": null,
      "outputs": [
        {
          "output_type": "execute_result",
          "data": {
            "text/plain": [
              "-5.545454545454546"
            ]
          },
          "metadata": {},
          "execution_count": 36
        }
      ]
    },
    {
      "cell_type": "markdown",
      "metadata": {
        "id": "GgS8uA14U5yG"
      },
      "source": [
        "Cool, huh?  It's nice to have a record of previous computations, especially if you don't want to type something again.\n",
        "\n",
        "Python allows you to group expressions with parentheses, and follows the order of operations that you learn in school."
      ]
    },
    {
      "cell_type": "code",
      "metadata": {
        "id": "kE_p7LcGU5yG",
        "colab": {
          "base_uri": "https://localhost:8080/"
        },
        "outputId": "bca3a2da-eadc-484b-f4ab-55da77757f1e"
      },
      "source": [
        "(3 + 4) * 5"
      ],
      "execution_count": null,
      "outputs": [
        {
          "output_type": "execute_result",
          "data": {
            "text/plain": [
              "35"
            ]
          },
          "metadata": {},
          "execution_count": 37
        }
      ]
    },
    {
      "cell_type": "code",
      "metadata": {
        "id": "n-hUvTxHU5yG",
        "colab": {
          "base_uri": "https://localhost:8080/"
        },
        "outputId": "b57a0f5b-8c77-40d9-9c3f-90cce068af3a"
      },
      "source": [
        "3 + (4 * 5)"
      ],
      "execution_count": null,
      "outputs": [
        {
          "output_type": "execute_result",
          "data": {
            "text/plain": [
              "23"
            ]
          },
          "metadata": {},
          "execution_count": 38
        }
      ]
    },
    {
      "cell_type": "code",
      "metadata": {
        "id": "3E_z7E81U5yG",
        "colab": {
          "base_uri": "https://localhost:8080/"
        },
        "outputId": "b250aece-dfc1-4ec4-e030-07d01961dc3d"
      },
      "source": [
        "3 + 4 * 5   #  What do you think will be the result?  Remember PEMDAS?"
      ],
      "execution_count": null,
      "outputs": [
        {
          "output_type": "execute_result",
          "data": {
            "text/plain": [
              "23"
            ]
          },
          "metadata": {},
          "execution_count": 39
        }
      ]
    },
    {
      "cell_type": "code",
      "source": [
        "4(1+3) # Python does not use \"implicit\" multiplication!  This should give an error."
      ],
      "metadata": {
        "id": "Azt9irrVLcE1",
        "colab": {
          "base_uri": "https://localhost:8080/",
          "height": 236
        },
        "outputId": "d6d9be12-7159-4564-a006-4da96967a5b5"
      },
      "execution_count": null,
      "outputs": [
        {
          "output_type": "stream",
          "name": "stderr",
          "text": [
            "<>:1: SyntaxWarning: 'int' object is not callable; perhaps you missed a comma?\n",
            "<>:1: SyntaxWarning: 'int' object is not callable; perhaps you missed a comma?\n",
            "<ipython-input-40-686be9fd5e6b>:1: SyntaxWarning: 'int' object is not callable; perhaps you missed a comma?\n",
            "  4(1+3) # Python does not use \"implicit\" multiplication!  This should give an error.\n"
          ]
        },
        {
          "output_type": "error",
          "ename": "TypeError",
          "evalue": "ignored",
          "traceback": [
            "\u001b[0;31m---------------------------------------------------------------------------\u001b[0m",
            "\u001b[0;31mTypeError\u001b[0m                                 Traceback (most recent call last)",
            "\u001b[0;32m<ipython-input-40-686be9fd5e6b>\u001b[0m in \u001b[0;36m<module>\u001b[0;34m\u001b[0m\n\u001b[0;32m----> 1\u001b[0;31m \u001b[0;36m4\u001b[0m\u001b[0;34m(\u001b[0m\u001b[0;36m1\u001b[0m\u001b[0;34m+\u001b[0m\u001b[0;36m3\u001b[0m\u001b[0;34m)\u001b[0m \u001b[0;31m# Python does not use \"implicit\" multiplication!  This should give an error.\u001b[0m\u001b[0;34m\u001b[0m\u001b[0;34m\u001b[0m\u001b[0m\n\u001b[0m",
            "\u001b[0;31mTypeError\u001b[0m: 'int' object is not callable"
          ]
        }
      ]
    },
    {
      "cell_type": "markdown",
      "metadata": {
        "id": "lIFwbvWsU5yG"
      },
      "source": [
        "Now is a good time to try a few computations of your own, in the empty cell below.  You can type any Python commands you want in the empty cell.  If you want to insert a new cell into this notebook, just hover your cursor in the space between cells in Colab."
      ]
    },
    {
      "cell_type": "code",
      "metadata": {
        "id": "Rc5Lv9wLU5yH",
        "colab": {
          "base_uri": "https://localhost:8080/"
        },
        "outputId": "b9814682-89b2-45f3-8333-06d6e394b5b5"
      },
      "source": [
        "22//7\n"
      ],
      "execution_count": null,
      "outputs": [
        {
          "output_type": "execute_result",
          "data": {
            "text/plain": [
              "3"
            ]
          },
          "metadata": {},
          "execution_count": 41
        }
      ]
    },
    {
      "cell_type": "markdown",
      "metadata": {
        "id": "OkWlZNSSU5yH"
      },
      "source": [
        "For number theory, *division with remainder* is an operation of central importance.  Integer division provides the quotient, and the operation `%` provides the remainder.  It's a bit strange that the percent symbol is used for the remainder, but this [dates at least to the early 1970s](https://softwareengineering.stackexchange.com/questions/294297/in-what-programming-language-did-the-use-of-the-percent-sign-to-mean-modulo) and has become standard across computer languages."
      ]
    },
    {
      "cell_type": "code",
      "metadata": {
        "id": "xTWOi_XxU5yH",
        "colab": {
          "base_uri": "https://localhost:8080/"
        },
        "outputId": "d90c43d3-b3c0-4ca6-86dc-baa0067ee023"
      },
      "source": [
        "23 // 5  # Integer division"
      ],
      "execution_count": null,
      "outputs": [
        {
          "output_type": "execute_result",
          "data": {
            "text/plain": [
              "4"
            ]
          },
          "metadata": {},
          "execution_count": 42
        }
      ]
    },
    {
      "cell_type": "code",
      "metadata": {
        "id": "UNjARp_xU5yH",
        "colab": {
          "base_uri": "https://localhost:8080/"
        },
        "outputId": "fd9aad22-60ff-4803-f235-c3673995fe16"
      },
      "source": [
        "23 % 5  # The remainder after division"
      ],
      "execution_count": null,
      "outputs": [
        {
          "output_type": "execute_result",
          "data": {
            "text/plain": [
              "3"
            ]
          },
          "metadata": {},
          "execution_count": 43
        }
      ]
    },
    {
      "cell_type": "markdown",
      "metadata": {
        "id": "WFrRvFgkU5yH"
      },
      "source": [
        "Note in the code above, there are little \"comments\".  To place a short comment on a line of code, just put a hashtag `#` at the end of the line of code, followed by your comment.\n",
        "\n",
        "Python gives a single command for division with remainder.  Its output is a *tuple*."
      ]
    },
    {
      "cell_type": "code",
      "metadata": {
        "id": "F2zJS-tRU5yH",
        "colab": {
          "base_uri": "https://localhost:8080/"
        },
        "outputId": "41fb669b-cce7-416f-864b-87b691a37fd0"
      },
      "source": [
        "divmod(23,5)"
      ],
      "execution_count": null,
      "outputs": [
        {
          "output_type": "execute_result",
          "data": {
            "text/plain": [
              "(4, 3)"
            ]
          },
          "metadata": {},
          "execution_count": 44
        }
      ]
    },
    {
      "cell_type": "code",
      "metadata": {
        "id": "y3dckm2dU5yH",
        "colab": {
          "base_uri": "https://localhost:8080/"
        },
        "outputId": "93833a96-f799-4061-adf2-52530b1f072a"
      },
      "source": [
        "type(divmod(23,5))"
      ],
      "execution_count": null,
      "outputs": [
        {
          "output_type": "execute_result",
          "data": {
            "text/plain": [
              "tuple"
            ]
          },
          "metadata": {},
          "execution_count": 45
        }
      ]
    },
    {
      "cell_type": "markdown",
      "metadata": {
        "id": "0qVUgNJ2U5yH"
      },
      "source": [
        "All data in Python has a type, but a common complaint about Python is that types are a bit concealed \"under the hood\".  But they are not far under the hood!  Anyone can find out the type of some data with a single command."
      ]
    },
    {
      "cell_type": "code",
      "metadata": {
        "id": "TU1Cho4tU5yI",
        "colab": {
          "base_uri": "https://localhost:8080/"
        },
        "outputId": "c3d941d7-8963-4001-de09-094439a0ffae"
      },
      "source": [
        "type(3)"
      ],
      "execution_count": null,
      "outputs": [
        {
          "output_type": "execute_result",
          "data": {
            "text/plain": [
              "int"
            ]
          },
          "metadata": {},
          "execution_count": 46
        }
      ]
    },
    {
      "cell_type": "code",
      "metadata": {
        "id": "OYALDWO5U5yI",
        "colab": {
          "base_uri": "https://localhost:8080/"
        },
        "outputId": "aa5f0e8c-79ee-4c6f-d8ce-64ca4ceaad20"
      },
      "source": [
        "type(3.0)"
      ],
      "execution_count": null,
      "outputs": [
        {
          "output_type": "execute_result",
          "data": {
            "text/plain": [
              "float"
            ]
          },
          "metadata": {},
          "execution_count": 47
        }
      ]
    },
    {
      "cell_type": "code",
      "metadata": {
        "id": "SHQ-_qcHU5yI",
        "colab": {
          "base_uri": "https://localhost:8080/"
        },
        "outputId": "c280eb38-fd93-4cc9-c79a-896a27ec003b"
      },
      "source": [
        "type('Hello')"
      ],
      "execution_count": null,
      "outputs": [
        {
          "output_type": "execute_result",
          "data": {
            "text/plain": [
              "str"
            ]
          },
          "metadata": {},
          "execution_count": 48
        }
      ]
    },
    {
      "cell_type": "code",
      "metadata": {
        "id": "nhf-YmD3U5yI",
        "colab": {
          "base_uri": "https://localhost:8080/"
        },
        "outputId": "fa3937ae-4abe-4ecf-d829-fd9cc4f9bbc0"
      },
      "source": [
        "type([1,2,3])"
      ],
      "execution_count": null,
      "outputs": [
        {
          "output_type": "execute_result",
          "data": {
            "text/plain": [
              "list"
            ]
          },
          "metadata": {},
          "execution_count": 49
        }
      ]
    },
    {
      "cell_type": "markdown",
      "metadata": {
        "id": "tYWDszLmU5yI"
      },
      "source": [
        "The key to careful computation in Python is always being *aware of the type* of your data, and *knowing* how Python operates differently on data of different types."
      ]
    },
    {
      "cell_type": "code",
      "metadata": {
        "id": "Uc7eYJLWU5yI",
        "colab": {
          "base_uri": "https://localhost:8080/"
        },
        "outputId": "d9f05afa-201a-4aff-feff-57da2a23d544"
      },
      "source": [
        "3 + 3"
      ],
      "execution_count": null,
      "outputs": [
        {
          "output_type": "execute_result",
          "data": {
            "text/plain": [
              "6"
            ]
          },
          "metadata": {},
          "execution_count": 50
        }
      ]
    },
    {
      "cell_type": "code",
      "metadata": {
        "id": "jv6N6XLQU5yI",
        "colab": {
          "base_uri": "https://localhost:8080/"
        },
        "outputId": "6d296d38-9e7f-48a0-f5f2-09bf4a95a941"
      },
      "source": [
        "3.0 + 3.0"
      ],
      "execution_count": null,
      "outputs": [
        {
          "output_type": "execute_result",
          "data": {
            "text/plain": [
              "6.0"
            ]
          },
          "metadata": {},
          "execution_count": 51
        }
      ]
    },
    {
      "cell_type": "code",
      "metadata": {
        "id": "KKF4Sv-jU5yI",
        "colab": {
          "base_uri": "https://localhost:8080/",
          "height": 35
        },
        "outputId": "87d6537c-2279-43b8-b230-ca7e1a55c843"
      },
      "source": [
        "'Hello' + 'World!'"
      ],
      "execution_count": null,
      "outputs": [
        {
          "output_type": "execute_result",
          "data": {
            "text/plain": [
              "'HelloWorld!'"
            ],
            "application/vnd.google.colaboratory.intrinsic+json": {
              "type": "string"
            }
          },
          "metadata": {},
          "execution_count": 52
        }
      ]
    },
    {
      "cell_type": "code",
      "metadata": {
        "id": "q9H__Z99U5yI",
        "colab": {
          "base_uri": "https://localhost:8080/"
        },
        "outputId": "8837e95d-7502-4b45-a6d1-07414f55eaa3"
      },
      "source": [
        "[1,2,3] + [4,5,6]"
      ],
      "execution_count": null,
      "outputs": [
        {
          "output_type": "execute_result",
          "data": {
            "text/plain": [
              "[1, 2, 3, 4, 5, 6]"
            ]
          },
          "metadata": {},
          "execution_count": 53
        }
      ]
    },
    {
      "cell_type": "code",
      "metadata": {
        "id": "NDDAxeQJU5yJ",
        "colab": {
          "base_uri": "https://localhost:8080/"
        },
        "outputId": "f632c5c3-e558-4646-a170-6fc2253d8543"
      },
      "source": [
        "3 + 3.0"
      ],
      "execution_count": null,
      "outputs": [
        {
          "output_type": "execute_result",
          "data": {
            "text/plain": [
              "6.0"
            ]
          },
          "metadata": {},
          "execution_count": 54
        }
      ]
    },
    {
      "cell_type": "code",
      "metadata": {
        "id": "xuBj_w9_U5yJ",
        "colab": {
          "base_uri": "https://localhost:8080/",
          "height": 166
        },
        "outputId": "0d04b7bc-c982-47a4-ad8f-29343d574f41"
      },
      "source": [
        "3 + 'Hello!'  # Uh oh!"
      ],
      "execution_count": null,
      "outputs": [
        {
          "output_type": "error",
          "ename": "TypeError",
          "evalue": "ignored",
          "traceback": [
            "\u001b[0;31m---------------------------------------------------------------------------\u001b[0m",
            "\u001b[0;31mTypeError\u001b[0m                                 Traceback (most recent call last)",
            "\u001b[0;32m<ipython-input-55-dacf80a979a3>\u001b[0m in \u001b[0;36m<module>\u001b[0;34m\u001b[0m\n\u001b[0;32m----> 1\u001b[0;31m \u001b[0;36m3\u001b[0m \u001b[0;34m+\u001b[0m \u001b[0;34m'Hello!'\u001b[0m  \u001b[0;31m# Uh oh!\u001b[0m\u001b[0;34m\u001b[0m\u001b[0;34m\u001b[0m\u001b[0m\n\u001b[0m",
            "\u001b[0;31mTypeError\u001b[0m: unsupported operand type(s) for +: 'int' and 'str'"
          ]
        }
      ]
    },
    {
      "cell_type": "code",
      "metadata": {
        "id": "9P7roKZgU5yJ",
        "colab": {
          "base_uri": "https://localhost:8080/"
        },
        "outputId": "81eecf78-f4ed-410d-f1c3-662b46aa87d4"
      },
      "source": [
        "#  An empty cell.  Have fun!\n",
        "#  Try operating on ints, floats, and strings, with different operations.  Which ones work?  How?\n",
        "3.14*10 + 10*15"
      ],
      "execution_count": null,
      "outputs": [
        {
          "output_type": "execute_result",
          "data": {
            "text/plain": [
              "181.4"
            ]
          },
          "metadata": {},
          "execution_count": 56
        }
      ]
    },
    {
      "cell_type": "markdown",
      "metadata": {
        "id": "1_2D8-NFU5yJ"
      },
      "source": [
        "As you can see, addition (the `+` operator) is interpreted differently in the contexts of numbers, strings, and lists.  The designers of Python allowed us to add *numbers* of different types:  if you try to operate on an *int* and a *float*, the *int* will typically be *coerced* into a float in order to perform the operation.  But the designers of Python did not give meaning to the addition of a number with a string, for example.  That's why you probably received a *TypeError* after trying to add a number to a string. \n",
        "\n",
        "On the other hand, Python does interpret *multiplication* of a natural number with a string or a list."
      ]
    },
    {
      "cell_type": "code",
      "metadata": {
        "id": "MmRfXepMU5yJ",
        "colab": {
          "base_uri": "https://localhost:8080/",
          "height": 35
        },
        "outputId": "06a9cd93-4cef-442d-abff-cd7e4d72ed30"
      },
      "source": [
        "3 * 'Hello!'"
      ],
      "execution_count": null,
      "outputs": [
        {
          "output_type": "execute_result",
          "data": {
            "text/plain": [
              "'Hello!Hello!Hello!'"
            ],
            "application/vnd.google.colaboratory.intrinsic+json": {
              "type": "string"
            }
          },
          "metadata": {},
          "execution_count": 57
        }
      ]
    },
    {
      "cell_type": "code",
      "metadata": {
        "id": "gVo2bjWzU5yJ",
        "colab": {
          "base_uri": "https://localhost:8080/",
          "height": 35
        },
        "outputId": "19bd32d6-debe-4240-a83b-1d5780e3b498"
      },
      "source": [
        "0 * 'Hello!'"
      ],
      "execution_count": null,
      "outputs": [
        {
          "output_type": "execute_result",
          "data": {
            "text/plain": [
              "''"
            ],
            "application/vnd.google.colaboratory.intrinsic+json": {
              "type": "string"
            }
          },
          "metadata": {},
          "execution_count": 58
        }
      ]
    },
    {
      "cell_type": "code",
      "metadata": {
        "id": "OqWWK6VWU5yJ",
        "colab": {
          "base_uri": "https://localhost:8080/"
        },
        "outputId": "8da0113b-d1b1-4297-eba7-d5bd19e350c5"
      },
      "source": [
        "2 * [1,2,3]"
      ],
      "execution_count": null,
      "outputs": [
        {
          "output_type": "execute_result",
          "data": {
            "text/plain": [
              "[1, 2, 3, 1, 2, 3]"
            ]
          },
          "metadata": {},
          "execution_count": 59
        }
      ]
    },
    {
      "cell_type": "markdown",
      "metadata": {
        "id": "Z28hpoAjU5yJ"
      },
      "source": [
        "Can you create a string with 100 A's (like `AAA...`)?  Use an appropriate operation in the cell below."
      ]
    },
    {
      "cell_type": "code",
      "metadata": {
        "id": "fAxwL5O3U5yJ",
        "colab": {
          "base_uri": "https://localhost:8080/",
          "height": 35
        },
        "outputId": "adb570fa-cb79-4dd6-9bc7-4d07f4d0e35c"
      },
      "source": [
        "#  Practice cell\n",
        "100*'A'"
      ],
      "execution_count": null,
      "outputs": [
        {
          "output_type": "execute_result",
          "data": {
            "text/plain": [
              "'AAAAAAAAAAAAAAAAAAAAAAAAAAAAAAAAAAAAAAAAAAAAAAAAAAAAAAAAAAAAAAAAAAAAAAAAAAAAAAAAAAAAAAAAAAAAAAAAAAAA'"
            ],
            "application/vnd.google.colaboratory.intrinsic+json": {
              "type": "string"
            }
          },
          "metadata": {},
          "execution_count": 60
        }
      ]
    },
    {
      "cell_type": "markdown",
      "metadata": {
        "id": "nHp8b6_8U5yJ"
      },
      "source": [
        "Exponents in Python are given by the `**` operator.  The following lines compute 2 to the 1000th power, in two different ways."
      ]
    },
    {
      "cell_type": "code",
      "metadata": {
        "id": "VNDmF-hcU5yK",
        "colab": {
          "base_uri": "https://localhost:8080/"
        },
        "outputId": "78f0012d-53e4-46f8-b7c4-5be372179291"
      },
      "source": [
        "2**1000"
      ],
      "execution_count": null,
      "outputs": [
        {
          "output_type": "execute_result",
          "data": {
            "text/plain": [
              "10715086071862673209484250490600018105614048117055336074437503883703510511249361224931983788156958581275946729175531468251871452856923140435984577574698574803934567774824230985421074605062371141877954182153046474983581941267398767559165543946077062914571196477686542167660429831652624386837205668069376"
            ]
          },
          "metadata": {},
          "execution_count": 61
        }
      ]
    },
    {
      "cell_type": "code",
      "metadata": {
        "id": "DEHGNQ3RU5yK",
        "colab": {
          "base_uri": "https://localhost:8080/"
        },
        "outputId": "9e4e68d3-2e32-489f-d6b2-418f9595ec52"
      },
      "source": [
        "2.0**1000"
      ],
      "execution_count": null,
      "outputs": [
        {
          "output_type": "execute_result",
          "data": {
            "text/plain": [
              "1.0715086071862673e+301"
            ]
          },
          "metadata": {},
          "execution_count": 62
        }
      ]
    },
    {
      "cell_type": "markdown",
      "metadata": {
        "id": "O1bSyFFJU5yK"
      },
      "source": [
        "As before, Python interprets an operation (`**`) differently in different contexts.  When given integer input, Python evaluates `2**1000` **exactly**.  The result is a large integer.  A nice fact about Python, for mathematicians, is that it handles exact integers of arbitrary length!  Many other programming languages (like C++) will give an error message if integers get too large in the midst of a computation.  \n",
        "\n",
        "New in version 3.x, Python implements long integers without giving signals to the programmer or changing types.  In Python 2.x, there were two types: *int* for somewhat small integers (e.g., up to $2^{31}$) and *long* type for all larger integers.  Python 2.x would signal which type of integer was being used, by placing the letter \"L\" at the end of a long integer.  Now, in Python 3.x, the programmer doesn't really see the difference.  There is only the *int* type.  But Python still optimizes computations, using hardware functionality for arithmetic of small integers and custom routines for large integers.  The programmer doesn't have to worry about it most of the time.\n",
        "\n",
        "For scientific applications, one often wants to keep track of only a certain number of significant digits (sig figs).  If one computes the floating point exponent `2.0**1000`, the result is a decimal approximation.  It is still a float.  The expression \"e+301\" stands for \"multiplied by 10 to the 301st power\", i.e., Python uses *scientific notation* for large floats."
      ]
    },
    {
      "cell_type": "code",
      "metadata": {
        "id": "gbiP5lpxU5yK",
        "colab": {
          "base_uri": "https://localhost:8080/"
        },
        "outputId": "576e2f73-9601-40ce-a9e8-107a9bcdf6ef"
      },
      "source": [
        "type(2**1000)"
      ],
      "execution_count": null,
      "outputs": [
        {
          "output_type": "execute_result",
          "data": {
            "text/plain": [
              "int"
            ]
          },
          "metadata": {},
          "execution_count": 63
        }
      ]
    },
    {
      "cell_type": "code",
      "metadata": {
        "id": "oYFQ7ZxFU5yL",
        "colab": {
          "base_uri": "https://localhost:8080/"
        },
        "outputId": "132d2360-8ec6-4627-eb61-f3154ebd1454"
      },
      "source": [
        "type(2.0**1000)"
      ],
      "execution_count": null,
      "outputs": [
        {
          "output_type": "execute_result",
          "data": {
            "text/plain": [
              "float"
            ]
          },
          "metadata": {},
          "execution_count": 64
        }
      ]
    },
    {
      "cell_type": "code",
      "metadata": {
        "id": "MtmwQzLgU5yL",
        "colab": {
          "base_uri": "https://localhost:8080/"
        },
        "outputId": "92c4196e-5ab4-45ad-b3dd-92cd384ad808"
      },
      "source": [
        "#  An empty cell.  Have fun!\n",
        "type(type('hello'))"
      ],
      "execution_count": null,
      "outputs": [
        {
          "output_type": "execute_result",
          "data": {
            "text/plain": [
              "type"
            ]
          },
          "metadata": {},
          "execution_count": 65
        }
      ]
    },
    {
      "cell_type": "markdown",
      "metadata": {
        "id": "hu0LPXNLU5yL"
      },
      "source": [
        "Now is a good time for reflection.  Double-click in the cell below to answer the given questions.  Cells like this one are used for text rather than Python code.  Text is entered using *markdown*, but you can typically just enter text as you would in any text editor without problems.  Press *shift-Enter* after editing a text cell to complete the editing process.  "
      ]
    },
    {
      "cell_type": "markdown",
      "metadata": {
        "id": "QLyCVcXoU5yL"
      },
      "source": [
        "### Exercises\n",
        "\n",
        "1.  What data types have you seen, and what kinds of data are they used for?  Can you remember them without looking back?\n",
        "\n",
        "2.  How is division `/` interpreted differently for different types of data?\n",
        "\n",
        "3.  How is multiplication `*` interpreted differently for different types of data?\n",
        "\n",
        "4.  What is the difference between 100 and 100.0, for Python?"
      ]
    },
    {
      "cell_type": "markdown",
      "metadata": {
        "id": "KDzM72ZXU5yL"
      },
      "source": [
        "Double-click this text cell to edit it, and answer the exercises.  This may be graded, so please complete all questions!  Write in clear, complete, and concise sentences.\n",
        "1. ints and floats are used to hold numbers, tuples, lists, and sets are used to hold collections of other objects. strings behave as list of characters.\n",
        "\n",
        "2. A single division operator is defined for number to number operation and does float division. Two division signs are used for integer division. This operation is not defined for any number of strings in the operand slots.\n",
        "\n",
        "3. For two numbers in the oprands the multiplication operator works as normal. However, if one of the two operands is a string and the other is a positive integer, the string is repeated that many times.\n",
        "\n",
        "4. One is type(100) = int, and the other is type(100.0)=float. Thus they will have different outputs when performing some operations."
      ]
    },
    {
      "cell_type": "markdown",
      "metadata": {
        "id": "0jhkZ5zhU5yL"
      },
      "source": [
        "# Calculating with booleans"
      ]
    },
    {
      "cell_type": "markdown",
      "metadata": {
        "id": "IAb0HST5U5yM"
      },
      "source": [
        "A *boolean* (type *bool*) is the smallest possible piece of data.  While an *int* can be any integer, positive or negative, a *boolean* can only be one of two things:  *True* or *False*.  In this way, booleans are useful for storing the answers to yes/no questions.  \n",
        "\n",
        "Questions about (in)equality of numbers are answered in Python by *operations* with numerical input and boolean output.  Here are some examples.  A more complete reference is [in the official Python documentation](https://docs.python.org/3/library/stdtypes.html#boolean-operations-and-or-not)."
      ]
    },
    {
      "cell_type": "code",
      "metadata": {
        "id": "AqNG6PZBU5yM"
      },
      "source": [
        "3 > 2"
      ],
      "execution_count": null,
      "outputs": []
    },
    {
      "cell_type": "code",
      "metadata": {
        "id": "nOgi4gqUU5yM"
      },
      "source": [
        "type(3 > 2)"
      ],
      "execution_count": null,
      "outputs": []
    },
    {
      "cell_type": "code",
      "metadata": {
        "id": "WabkpXPbU5yM"
      },
      "source": [
        "10 < 3"
      ],
      "execution_count": null,
      "outputs": []
    },
    {
      "cell_type": "code",
      "metadata": {
        "id": "Mohc3o5oU5yM"
      },
      "source": [
        "2.4 < 2.4000001"
      ],
      "execution_count": null,
      "outputs": []
    },
    {
      "cell_type": "code",
      "metadata": {
        "id": "jnrzq17fU5yM"
      },
      "source": [
        "32 >= 32"
      ],
      "execution_count": null,
      "outputs": []
    },
    {
      "cell_type": "code",
      "metadata": {
        "id": "D55td8J7U5yM"
      },
      "source": [
        "32 >= 31"
      ],
      "execution_count": null,
      "outputs": []
    },
    {
      "cell_type": "code",
      "metadata": {
        "id": "L0RlreGLU5yM"
      },
      "source": [
        "2 + 2 == 4"
      ],
      "execution_count": null,
      "outputs": []
    },
    {
      "cell_type": "markdown",
      "metadata": {
        "id": "_f2QoYJ-U5yM"
      },
      "source": [
        "Which number is bigger:  $23^{32}$ or $32^{23}$?  Use the cell below to answer the question!"
      ]
    },
    {
      "cell_type": "code",
      "metadata": {
        "id": "PGlksxncU5yN",
        "colab": {
          "base_uri": "https://localhost:8080/"
        },
        "outputId": "86dda83a-1fc9-451a-d9c9-96d950a42d0a"
      },
      "source": [
        "#  Write your code here.\n",
        "23**32 > 32**23"
      ],
      "execution_count": null,
      "outputs": [
        {
          "output_type": "execute_result",
          "data": {
            "text/plain": [
              "True"
            ]
          },
          "metadata": {},
          "execution_count": 67
        }
      ]
    },
    {
      "cell_type": "markdown",
      "metadata": {
        "id": "KTiAVQ0qU5yN"
      },
      "source": [
        "The expressions `<`, `>`, `<=`, `>=` are interpreted here as **operations** with numerical input and boolean output.  The symbol `==` (two equal symbols!) gives a True result if the numbers are equal, and False if the numbers are not equal.  An extremely common typo is to confuse `=` with `==`.  But the single equality symbol `=` has an entirely different meaning, as we shall see."
      ]
    },
    {
      "cell_type": "markdown",
      "metadata": {
        "id": "3atYTyAnU5yN"
      },
      "source": [
        "Using the remainder operator `%` and equality, we obtain a divisibility test."
      ]
    },
    {
      "cell_type": "code",
      "metadata": {
        "id": "t1BCq6GFU5yN"
      },
      "source": [
        "63 % 7 == 0  # Is 63 divisible by 7?"
      ],
      "execution_count": null,
      "outputs": []
    },
    {
      "cell_type": "code",
      "metadata": {
        "id": "kYz8XfraU5yN"
      },
      "source": [
        "101 % 2 == 0  # Is 101 even?"
      ],
      "execution_count": null,
      "outputs": []
    },
    {
      "cell_type": "markdown",
      "metadata": {
        "id": "0Iikx3JZU5yN"
      },
      "source": [
        "Use the cell below to determine whether 1234567890 is divisible by 3."
      ]
    },
    {
      "cell_type": "code",
      "metadata": {
        "id": "LPqBN_VlU5yN",
        "colab": {
          "base_uri": "https://localhost:8080/"
        },
        "outputId": "315e389a-b41c-4930-ddf7-e94e59f341fc"
      },
      "source": [
        "# Your code goes here.\n",
        "1234567890 %3 == 0"
      ],
      "execution_count": null,
      "outputs": [
        {
          "output_type": "execute_result",
          "data": {
            "text/plain": [
              "True"
            ]
          },
          "metadata": {},
          "execution_count": 66
        }
      ]
    },
    {
      "cell_type": "markdown",
      "metadata": {
        "id": "Tvle2bwdU5yN"
      },
      "source": [
        "Booleans can be operated on by the standard logical operations: and, or, not.  In ordinary English usage, \"and\" and \"or\" are conjunctions, while here in *Boolean algebra*, \"and\" and \"or\" are operations with Boolean inputs and Boolean output.  The precise meanings of \"and\" and \"or\" are given by the following **truth tables**.\n",
        "\n",
        "    \n",
        "| and | True | False |\n",
        "|-----|------|-------|\n",
        "| **True** | True | False |\n",
        "| **False** | False | False|\n",
        "\n",
        "<br>\n",
        "  \n",
        "| or | True | False |\n",
        "|-----|------|-------|\n",
        "| **True** | True | True |\n",
        "| **False** | True | False|"
      ]
    },
    {
      "cell_type": "code",
      "metadata": {
        "id": "eRo1A6IzU5yN"
      },
      "source": [
        "True and False"
      ],
      "execution_count": null,
      "outputs": []
    },
    {
      "cell_type": "code",
      "metadata": {
        "id": "sFMWK-0HU5yN"
      },
      "source": [
        "True or False"
      ],
      "execution_count": null,
      "outputs": []
    },
    {
      "cell_type": "code",
      "metadata": {
        "id": "5bREtxzOU5yN"
      },
      "source": [
        "True or True"
      ],
      "execution_count": null,
      "outputs": []
    },
    {
      "cell_type": "code",
      "metadata": {
        "id": "DP0Rw6jDU5yO"
      },
      "source": [
        "not True"
      ],
      "execution_count": null,
      "outputs": []
    },
    {
      "cell_type": "markdown",
      "metadata": {
        "id": "DRKe3Jv8U5yO"
      },
      "source": [
        "Use the truth tables to predict the result (True or False) of each of the following, before evaluating the code."
      ]
    },
    {
      "cell_type": "code",
      "metadata": {
        "id": "NVKb_6njU5yO"
      },
      "source": [
        "(2 > 3) and (3 > 2)"
      ],
      "execution_count": null,
      "outputs": []
    },
    {
      "cell_type": "code",
      "metadata": {
        "id": "JrprEal6U5yO"
      },
      "source": [
        "(1 + 1 == 2) or (1 + 1 == 3)"
      ],
      "execution_count": null,
      "outputs": []
    },
    {
      "cell_type": "code",
      "metadata": {
        "scrolled": true,
        "id": "Ef-ryEGjU5yO"
      },
      "source": [
        "not (-1 + 1 >= 0)"
      ],
      "execution_count": null,
      "outputs": []
    },
    {
      "cell_type": "code",
      "metadata": {
        "id": "FUSY_QuLU5yO"
      },
      "source": [
        "2 + 2 == 4"
      ],
      "execution_count": null,
      "outputs": []
    },
    {
      "cell_type": "code",
      "metadata": {
        "id": "hKTk4LjaU5yO"
      },
      "source": [
        "2 + 2 != 4  # For \"not equal\", Python uses the operation `!=`."
      ],
      "execution_count": null,
      "outputs": []
    },
    {
      "cell_type": "code",
      "metadata": {
        "id": "UsJtoToLU5yO"
      },
      "source": [
        "2 + 2 != 5  # Is 2+2 *not* equal to 5?"
      ],
      "execution_count": null,
      "outputs": []
    },
    {
      "cell_type": "code",
      "metadata": {
        "id": "tVfKlWT_U5yO"
      },
      "source": [
        "not (2 + 2 == 5)  # The same as above, but a bit longer to write."
      ],
      "execution_count": null,
      "outputs": []
    },
    {
      "cell_type": "markdown",
      "metadata": {
        "id": "uwxFqT9uU5yO"
      },
      "source": [
        "Experiment below to see how Python handles a double or triple negative, i.e., something with a `not` `not`."
      ]
    },
    {
      "cell_type": "code",
      "metadata": {
        "id": "nD-RgY0CU5yP",
        "colab": {
          "base_uri": "https://localhost:8080/"
        },
        "outputId": "1bd4f2b5-8054-435a-d3c1-424a8992dd4b"
      },
      "source": [
        "# Experiment here.\n",
        "not not not True"
      ],
      "execution_count": null,
      "outputs": [
        {
          "output_type": "execute_result",
          "data": {
            "text/plain": [
              "False"
            ]
          },
          "metadata": {},
          "execution_count": 68
        }
      ]
    },
    {
      "cell_type": "markdown",
      "metadata": {
        "id": "5xxO21m1U5yP"
      },
      "source": [
        "Python does give an interpretation to arithmetic operations with booleans and numbers.  Try to guess this interpretation with the following examples.  Change the examples to experiment!"
      ]
    },
    {
      "cell_type": "code",
      "metadata": {
        "id": "Y2lLPpdWU5yP",
        "colab": {
          "base_uri": "https://localhost:8080/"
        },
        "outputId": "4482651c-109b-497a-8bb7-8c8e80c131f6"
      },
      "source": [
        "False * 100"
      ],
      "execution_count": null,
      "outputs": [
        {
          "output_type": "execute_result",
          "data": {
            "text/plain": [
              "0"
            ]
          },
          "metadata": {},
          "execution_count": 69
        }
      ]
    },
    {
      "cell_type": "code",
      "metadata": {
        "id": "5y3rtwrdU5yP",
        "colab": {
          "base_uri": "https://localhost:8080/"
        },
        "outputId": "bf034611-67d8-4003-ce7b-bc1dcd42652a"
      },
      "source": [
        "True + 13"
      ],
      "execution_count": null,
      "outputs": [
        {
          "output_type": "execute_result",
          "data": {
            "text/plain": [
              "14"
            ]
          },
          "metadata": {},
          "execution_count": 70
        }
      ]
    },
    {
      "cell_type": "markdown",
      "metadata": {
        "id": "QOkU3A_fU5yP"
      },
      "source": [
        "This ability of Python to interpret operations based on context is a mixed blessing.  On one hand, it leads to handy shortcuts -- quick ways of writing complicated programs.  On the other hand, it can lead to code that is harder to read, especially for a Python novice.  Good programmers aim for code that is easy to read, not just short!\n",
        "\n",
        "The [Zen of Python](https://www.python.org/dev/peps/pep-0020/) is a series of 20 aphorisms for Python programmers.  The first seven are below.\n",
        "\n",
        "> Beautiful is better than ugly.\n",
        "\n",
        "> Explicit is better than implicit.\n",
        "\n",
        "> Simple is better than complex.\n",
        "\n",
        "> Complex is better than complicated.\n",
        "\n",
        "> Flat is better than nested.\n",
        "\n",
        "> Sparse is better than dense.\n",
        "\n",
        "> Readability counts."
      ]
    },
    {
      "cell_type": "markdown",
      "metadata": {
        "id": "_5mUQ1tCU5yP"
      },
      "source": [
        "### Exercises\n",
        "\n",
        "1.  Did you look at the truth tables closely?  Can you remember, from memory, what `True or False` equals, or what `True and False` equals?  \n",
        "\n",
        "2.  How might you easily remember the truth tables?  How do they resemble the standard English usage of the words \"and\" and \"or\"?\n",
        "\n",
        "3.  If you wanted to know whether a number, like 2349872348723, is a multiple of 7 but **not** a multiple of 11, how might you write this in one line of Python code?\n",
        "\n",
        "4.  You can chain together `and` commands, e.g., with an expression like `True and True and True` (which would evaluate to `True`).  You can also group booleans, e.g., with `True and (True or False)`.  Experiment to figure out the order of operations (`and`, `or`, `not`) for booleans.\n",
        "\n",
        "6.  The operation `xor` means \"exclusive or\".  Its truth table is: `True xor True = False` and `False xor False = False` and `True xor False = True` and `False xor True = True`.  How might you implement `xor` in terms of the usual `and`, `or`, and `not`?\n",
        "\n"
      ]
    },
    {
      "cell_type": "markdown",
      "metadata": {
        "id": "owWkn3ieU5yP"
      },
      "source": [
        "###  Solutions\n",
        "\n",
        "(Edit here to give solutions to the exercises)\n",
        "\n",
        "1. True or False = True\n",
        "\n",
        "  True and False = False\n",
        "\n",
        "2. The value of the and operator is true when both x *and* y are true. Likewise the value of the or operator is true when either x *or* y is true.\n",
        "\n",
        "3. (2349872348723 % 7 == 0) and (2349872348723 % 11 != 0)\n",
        "\n",
        "4. In order from least precedence to greatest precedence, or, and, not.\n",
        "\n",
        "5. (x or y) and not (x and y)"
      ]
    },
    {
      "cell_type": "markdown",
      "metadata": {
        "id": "k69tL17JU5yP"
      },
      "source": [
        "# Declaring variables"
      ]
    },
    {
      "cell_type": "markdown",
      "metadata": {
        "id": "UjI-5d00U5yP"
      },
      "source": [
        "A central feature of programming is the declaration of variables.  When you declare a variable, you are *storing* data in the computer's *memory* and you are assigning a *name* to that data.  Both storage and name-assignment are carried out with the *single* equality symbol =."
      ]
    },
    {
      "cell_type": "code",
      "metadata": {
        "id": "hkwJHNVpU5yQ"
      },
      "source": [
        "e = 2.71828"
      ],
      "execution_count": null,
      "outputs": []
    },
    {
      "cell_type": "markdown",
      "metadata": {
        "id": "gY-LejB4U5yQ"
      },
      "source": [
        "With this command, the float 2.71828 is stored somewhere inside your computer, and Python can access this stored number by the name \"e\" thereafter.  So if you want to compute \"e squared\", a single command will do."
      ]
    },
    {
      "cell_type": "code",
      "metadata": {
        "id": "2ZJ7VtIwU5yQ"
      },
      "source": [
        "e * e"
      ],
      "execution_count": null,
      "outputs": []
    },
    {
      "cell_type": "code",
      "metadata": {
        "id": "G46Ma5fCU5yQ"
      },
      "source": [
        "type(e)"
      ],
      "execution_count": null,
      "outputs": []
    },
    {
      "cell_type": "markdown",
      "metadata": {
        "id": "cWVyUzZxU5yQ"
      },
      "source": [
        "You can use just about any name you want for a variable, but your name *must* start with a letter, *must* not contain spaces, and your name *must* not be an existing Python word.  Characters in a variable name can include letters (uppercase and lowercase) and numbers and underscores `_`.  \n",
        "\n",
        "So `e` is a valid name for a variable, but `type` is a bad name.  It is very tempting for beginners to use very short abbreviation-style names for variables (like `dx` or `vbn`).  But resist that temptation and use more descriptive names for variables, like `difference_x` or `very_big_number`.  This will make your code readable by you and others!\n",
        "\n",
        "There are different style conventions for variable names.  We use lowercase names, with underscores separating words,  roughly following [Google's style conventions](https://google.github.io/styleguide/pyguide.html#Python_Style_Rules) for Python code."
      ]
    },
    {
      "cell_type": "code",
      "metadata": {
        "id": "yQN7N7ZPU5yQ"
      },
      "source": [
        "my_number = 17"
      ],
      "execution_count": null,
      "outputs": []
    },
    {
      "cell_type": "code",
      "metadata": {
        "id": "FitPq8UNU5yQ"
      },
      "source": [
        "my_number < 23"
      ],
      "execution_count": null,
      "outputs": []
    },
    {
      "cell_type": "markdown",
      "metadata": {
        "id": "ne_mUsdnU5yQ"
      },
      "source": [
        "After you declare a variable, its value remains the same until it is changed.  You can change the value of a variable with a simple assignment.  After the above lines, the value of my_number is 17."
      ]
    },
    {
      "cell_type": "code",
      "metadata": {
        "id": "Eu-rHwt0U5yQ"
      },
      "source": [
        "my_number = 3.14"
      ],
      "execution_count": null,
      "outputs": []
    },
    {
      "cell_type": "markdown",
      "metadata": {
        "id": "cqgxOyyEU5yQ"
      },
      "source": [
        "This command reassigns the value of my_number to 3.14.  Note that it changes the type too!  It effectively overrides the previous value and replaces it with the new value.\n",
        "\n",
        "Often it is useful to change the value of a variable *incrementally* or *recursively*.  Python, like many programming languages, allows one to assign variables in a self-referential way.  What do you think the value of S will be after the following four lines?"
      ]
    },
    {
      "cell_type": "code",
      "metadata": {
        "id": "zW6_fRoxU5yR"
      },
      "source": [
        "S = 0\n",
        "S = S + 1\n",
        "S = S + 2\n",
        "S = S + 3\n",
        "print(S)"
      ],
      "execution_count": null,
      "outputs": []
    },
    {
      "cell_type": "markdown",
      "metadata": {
        "id": "cX1eo3jZU5yR"
      },
      "source": [
        "The first line `S = 0` is the initial declaration:  the value 0 is stored in memory, and the name S is assigned to this value.\n",
        "\n",
        "The next line `S = S + 1` looks like nonsense, as an algebraic sentence.  But reading = as **assignment** rather than **equality**, you should read the line `S = S + 1` as assigning the *value* `S + 1` to the *name* `S`.  When Python interprets `S = S + 1`, it carries out the following steps.\n",
        "\n",
        "1.  Compute the value of the right side, `S+1`.  (The value is 1, since `S` was assigned the value 0 in the previous line.)\n",
        "2.  Assign this value to the left side, `S`.  (Now `S` has the value 1.)\n",
        "\n",
        "Well, this is a slight lie.  Python probably does something more efficient, when given the command `S = S + 1`, since such operations are hard-wired in the computer and the Python interpreter is smart enough to take the most efficient route.  But at this level, it is most useful to think of a self-referential assignment of the form `X = expression(X)` as a two step process as above.\n",
        "\n",
        "1.  Compute the value of `expression(X)`.\n",
        "2.  Assign this value to `X`."
      ]
    },
    {
      "cell_type": "markdown",
      "metadata": {
        "id": "82NT9vo2U5yR"
      },
      "source": [
        "Now consider the following three commands."
      ]
    },
    {
      "cell_type": "code",
      "metadata": {
        "id": "CbT40NiuU5yR"
      },
      "source": [
        "my_number = 17\n",
        "new_number = my_number + 1\n",
        "my_number = 3.14"
      ],
      "execution_count": null,
      "outputs": []
    },
    {
      "cell_type": "markdown",
      "metadata": {
        "id": "yQz42J2dU5yR"
      },
      "source": [
        "What are the values of the variables my_number and new_number, after the execution of these three lines?\n",
        "\n",
        "To access these values, you can use the *print* function."
      ]
    },
    {
      "cell_type": "code",
      "metadata": {
        "id": "5J4rfa08U5yR"
      },
      "source": [
        "print(my_number)\n",
        "print(new_number)"
      ],
      "execution_count": null,
      "outputs": []
    },
    {
      "cell_type": "markdown",
      "metadata": {
        "id": "DbEoFnjnU5yR"
      },
      "source": [
        "Python is an *interpreted* language, which carries out commands line-by-line from top to bottom.  So consider the three lines\n",
        "\n",
        "``` python\n",
        "my_number = 17\n",
        "new_number = my_number + 1\n",
        "my_number = 3.14\n",
        "```\n",
        "\n",
        "Line 1 sets the value of my_number to 17.  Line 2 sets the value of new_number to 18.  Line 3 sets the value of my_number to 3.14.  But Line 3 does *not* change the value of new_number at all.\n",
        "\n",
        "(This will become confusing and complicated later, as we study mutable and immutable types.)"
      ]
    },
    {
      "cell_type": "markdown",
      "metadata": {
        "id": "PFA4Q7SiU5yR"
      },
      "source": [
        "### Exercises\n",
        "\n",
        "1.  What is the difference between `=` and `==` in the Python language?\n",
        "\n",
        "2.  If the variable `x` has value `3`, and you then evaluate the Python command `x = x * x`, what will be the value of `x` after evaluation?\n",
        "\n",
        "3.  Imagine you have two variables `a` and `b`, and you want to switch their values.  How could you do this in Python?\n",
        "\n",
        "4.  Kepler's third law states that for a planet in circular orbit around an object of mass $M$, one has $4 \\pi^2 r^3 = G M t^2$.  We can use this to estimate the mass of the sun, from other astronomically observable quantities.  Look up $G$ (the gravitational constant, estimated by experiment on Earth) and $r$ (the distance from the Earth to the sun, in meters).  Compute $t$, the number of seconds it takes for the Earth to go around the sun (365.25 days).  Finally use all of this to estimate $M$, the mass of the sun.  Your solution should use 5-10 lines of Python code."
      ]
    },
    {
      "cell_type": "markdown",
      "metadata": {
        "id": "sIeJz7hUU5yR"
      },
      "source": [
        "### Solutions\n",
        "\n",
        "(Use this space to work on the exercises.  Place more code and text cells above as needed.)\n",
        "\n",
        "1. `=` is used to assign the left operand to the right, while `==` is used to test if the right and left operands are \"equal\" to each other.\n",
        "\n",
        "2. 9\n",
        "\n",
        "3. temp = a\n",
        "\n",
        "  a = b\n",
        "\n",
        "  b = temp\n",
        "\n",
        "  Or you could do something like\n",
        "\n",
        "  b, a = (a,b)\n",
        "\n",
        "4. "
      ]
    },
    {
      "cell_type": "code",
      "source": [
        "G = 6.6743 * 10 ** -11 # m^3/s^2kg\n",
        "r = 150*10**9 # m\n",
        "t = 365.25*24*3600 # s\n",
        "pi = 3.14\n",
        "M = 4*pi**2*r**3/(G*t**2)\n",
        "print(M,'kg')"
      ],
      "metadata": {
        "colab": {
          "base_uri": "https://localhost:8080/"
        },
        "id": "XSwoJDGeOnt1",
        "outputId": "10a01ebc-89b4-4081-a8bd-8b3ce691b745"
      },
      "execution_count": null,
      "outputs": [
        {
          "output_type": "stream",
          "name": "stdout",
          "text": [
            "2.0025317329111956e+30 kg\n"
          ]
        }
      ]
    },
    {
      "cell_type": "markdown",
      "metadata": {
        "id": "b81C2aIPU5yS"
      },
      "source": [
        "# Lists and ranges"
      ]
    },
    {
      "cell_type": "markdown",
      "metadata": {
        "id": "iZoKvbn0U5yS"
      },
      "source": [
        "Python stands out for the central role played by *lists*.  A *list* is what it sounds like -- a list of data.  Data within a list can be of any type.  Multiple types are possible within the same list!  The basic syntax for a list is to use brackets to enclose the list items and commas to separate the list items."
      ]
    },
    {
      "cell_type": "code",
      "metadata": {
        "id": "MQRMJWrgU5yS"
      },
      "source": [
        "type([1,2,3])"
      ],
      "execution_count": null,
      "outputs": []
    },
    {
      "cell_type": "code",
      "metadata": {
        "id": "BkTCBWhsU5yS"
      },
      "source": [
        "type(['Hello',17])"
      ],
      "execution_count": null,
      "outputs": []
    },
    {
      "cell_type": "markdown",
      "metadata": {
        "id": "DH51tlMvU5yS"
      },
      "source": [
        "There is another type called a *tuple* that we will use less often.  Tuples use parentheses for enclosure instead of brackets."
      ]
    },
    {
      "cell_type": "code",
      "metadata": {
        "id": "8m1KBuRNU5yS"
      },
      "source": [
        "type((1,2,3))"
      ],
      "execution_count": null,
      "outputs": []
    },
    {
      "cell_type": "markdown",
      "metadata": {
        "id": "sFZr5TtpU5yS"
      },
      "source": [
        "There's another list-like type in Python 3, called the `range` type.  Ranges are kind of like lists, but instead of plunking every item into a slot of memory, ranges just have to remember three integers:  their *start*, their *stop*, and their *step*.    \n",
        "\n",
        "The `range` command creates a range with a given start, stop, and step.  If you only input one number, the range will ***start at zero*** and use ***steps of one*** and will stop ***just before*** the given stop-number.\n",
        "\n",
        "One can create a list from a range (plunking every term in the range into a slot of memory), by using the `list` command.  Here are a few examples."
      ]
    },
    {
      "cell_type": "code",
      "metadata": {
        "id": "0N_HejMiU5yS"
      },
      "source": [
        "type(range(10)) # Ranges are their own type, in Python 3.x.  Not in Python 2.x!"
      ],
      "execution_count": null,
      "outputs": []
    },
    {
      "cell_type": "code",
      "metadata": {
        "id": "XzlQhL4eU5yS"
      },
      "source": [
        "list(range(10)) # Let's see what's in the range.  Note it starts at zero!  Where does it stop?"
      ],
      "execution_count": null,
      "outputs": []
    },
    {
      "cell_type": "markdown",
      "metadata": {
        "id": "7-TeavRKU5yS"
      },
      "source": [
        "A more complicated two-input form of the range command produces a range of integers **starting at** a given number, and **terminating before** another given number."
      ]
    },
    {
      "cell_type": "code",
      "metadata": {
        "id": "fpHHkb82U5yT"
      },
      "source": [
        "list(range(3,10))"
      ],
      "execution_count": null,
      "outputs": []
    },
    {
      "cell_type": "code",
      "metadata": {
        "id": "O5A8XZFxU5yT"
      },
      "source": [
        "list(range(-4,5))"
      ],
      "execution_count": null,
      "outputs": []
    },
    {
      "cell_type": "markdown",
      "metadata": {
        "id": "dRzyphm5U5yT"
      },
      "source": [
        "This is a common source of difficulty for Python beginners.  While the first parameter (-4) is the starting point of the list, the list ends just before the second parameter (5).  This takes some getting used to, but experienced Python programmers grow to like this convention."
      ]
    },
    {
      "cell_type": "markdown",
      "metadata": {
        "id": "XderpNFAU5yT"
      },
      "source": [
        "The *length* of a list can be accessed by the len command."
      ]
    },
    {
      "cell_type": "code",
      "metadata": {
        "id": "-xjzFOxWU5yT"
      },
      "source": [
        "len([2,4,6])"
      ],
      "execution_count": null,
      "outputs": []
    },
    {
      "cell_type": "code",
      "metadata": {
        "id": "1IG2dOJeU5yT"
      },
      "source": [
        "len(range(10))  # The len command can deal with lists and ranges.  No need to convert."
      ],
      "execution_count": null,
      "outputs": []
    },
    {
      "cell_type": "code",
      "metadata": {
        "id": "N9lCN8-bU5yT"
      },
      "source": [
        "len(range(10,100)) # Can you figure out the length, before evaluating?"
      ],
      "execution_count": null,
      "outputs": []
    },
    {
      "cell_type": "markdown",
      "metadata": {
        "id": "zW4aiYaAU5yT"
      },
      "source": [
        "The final variant of the range command (for now) is the *three-parameter* command of the form `range(a,b,s)`.  This produces a list like `range(a,b)`, but with a \"step size\" of `s`.  In other words, it produces a list of integers, beginning at `a`, increasing by `s` from one entry to the next, and going up to (but not including) `b`.  It is best to experiment a bit to get the feel for it!"
      ]
    },
    {
      "cell_type": "code",
      "metadata": {
        "id": "RjmZQRmtU5yT"
      },
      "source": [
        "list(range(1,10,2))"
      ],
      "execution_count": null,
      "outputs": []
    },
    {
      "cell_type": "code",
      "metadata": {
        "id": "UX91kNpoU5yT"
      },
      "source": [
        "list(range(11,30,2))"
      ],
      "execution_count": null,
      "outputs": []
    },
    {
      "cell_type": "code",
      "metadata": {
        "id": "cU6TYerPU5yU"
      },
      "source": [
        "list(range(-4,5,3))"
      ],
      "execution_count": null,
      "outputs": []
    },
    {
      "cell_type": "code",
      "metadata": {
        "id": "_RueWhdHU5yU"
      },
      "source": [
        "list(range(10,100,17))"
      ],
      "execution_count": null,
      "outputs": []
    },
    {
      "cell_type": "markdown",
      "metadata": {
        "id": "I3otAH2AU5yU"
      },
      "source": [
        "This can be used for descending ranges too, and observe that the final number b in range(a,b,s) is not included."
      ]
    },
    {
      "cell_type": "code",
      "metadata": {
        "id": "LVm1djsTU5yU"
      },
      "source": [
        "list(range(10,0,-1))"
      ],
      "execution_count": null,
      "outputs": []
    },
    {
      "cell_type": "markdown",
      "metadata": {
        "id": "Jp1V-X59U5yU"
      },
      "source": [
        "How many multiples of 7 are between 10 and 100?  We can find out pretty quickly with the range command and the len command (to count)."
      ]
    },
    {
      "cell_type": "code",
      "metadata": {
        "id": "roA4gLoXU5yU"
      },
      "source": [
        "list(range(10,100,7))  # What list will this create?  It won't answer the question..."
      ],
      "execution_count": null,
      "outputs": []
    },
    {
      "cell_type": "code",
      "metadata": {
        "id": "jybN-evPU5yU"
      },
      "source": [
        "list(range(14,100,7))  # Starting at 14 gives the multiples of 7."
      ],
      "execution_count": null,
      "outputs": []
    },
    {
      "cell_type": "code",
      "metadata": {
        "id": "BdvLmGljU5yU"
      },
      "source": [
        "len(range(14,100,7))  # Gives the length of the list, and answers the question!"
      ],
      "execution_count": null,
      "outputs": []
    },
    {
      "cell_type": "markdown",
      "metadata": {
        "id": "dMbcJV5UU5yU"
      },
      "source": [
        "### Exercises\n",
        "\n",
        "1.  If `a` and `b` are integers, what is the length of `range(a,b)`?  Express your answer as a formula involving `a` and `b`.\n",
        "\n",
        "2.  Use a list and range command to produce the list `[1,2,3,4,5,6,7,8,9,10]`.\n",
        "\n",
        "3.  Create the list `[1,2,3,4,5,1,2,3,4,5,1,2,3,4,5,1,2,3,4,5,1,2,3,4,5]` with a single list and range command and another operation.\n",
        "\n",
        "4.  How many multiples of 3 are there between 300 and 3000 (including 300 and 3000)?"
      ]
    },
    {
      "cell_type": "code",
      "metadata": {
        "id": "4HKDVcFVU5yU",
        "colab": {
          "base_uri": "https://localhost:8080/"
        },
        "outputId": "64d99f16-b15d-4ae5-96d3-10941795536e"
      },
      "source": [
        "#  Use this space to work on the exercises.\n",
        "# 1\n",
        "a = 5\n",
        "b = 10\n",
        "print('1:',len(range(a,b)) == b-a)\n",
        "\n",
        "# 2\n",
        "l = list(range(1,11))\n",
        "print('2:',l)\n",
        "\n",
        "# 3\n",
        "l = 5*list(range(1,6))\n",
        "print('3:',l)\n",
        "\n",
        "# 4\n",
        "n = len(range(300, 3001, 3))\n",
        "print('4:',n)"
      ],
      "execution_count": null,
      "outputs": [
        {
          "output_type": "stream",
          "name": "stdout",
          "text": [
            "1: True\n",
            "2: [1, 2, 3, 4, 5, 6, 7, 8, 9, 10]\n",
            "3: [1, 2, 3, 4, 5, 1, 2, 3, 4, 5, 1, 2, 3, 4, 5, 1, 2, 3, 4, 5, 1, 2, 3, 4, 5]\n",
            "4: 901\n"
          ]
        }
      ]
    },
    {
      "cell_type": "markdown",
      "metadata": {
        "id": "ccSW2BGyU5yV"
      },
      "source": [
        "# Iterating over a range"
      ]
    },
    {
      "cell_type": "markdown",
      "metadata": {
        "id": "qoOhvB1rU5yV"
      },
      "source": [
        "Computers are excellent at repetitive reliable tasks.  If we wish to perform a similar computation, many times over, a computer a great tool.  Here we look at a common and simple way to carry out a repetetive computation:  the \"for loop\".  The \"for loop\" *iterates* through items in a list or range, carrying out some action for each item.  Two examples will illustrate."
      ]
    },
    {
      "cell_type": "code",
      "metadata": {
        "id": "mwdKBi3kU5yV"
      },
      "source": [
        "for n in [1,2,3,4,5]:\n",
        "    print(n*n)"
      ],
      "execution_count": null,
      "outputs": []
    },
    {
      "cell_type": "code",
      "metadata": {
        "id": "HC031A4LU5yV"
      },
      "source": [
        "for s in ['I','Am','Python']:\n",
        "    print(s + \"!\")"
      ],
      "execution_count": null,
      "outputs": []
    },
    {
      "cell_type": "markdown",
      "metadata": {
        "id": "yuctH9OZU5yV"
      },
      "source": [
        "The first loop, **unraveled**, carries out the following sequence of commands."
      ]
    },
    {
      "cell_type": "code",
      "metadata": {
        "id": "UY4izCfvU5yV"
      },
      "source": [
        "n = 1\n",
        "print(n*n)\n",
        "n = 2\n",
        "print(n*n)\n",
        "n = 3\n",
        "print(n*n)\n",
        "n = 4\n",
        "print(n*n)\n",
        "n = 5\n",
        "print(n*n)"
      ],
      "execution_count": null,
      "outputs": []
    },
    {
      "cell_type": "markdown",
      "metadata": {
        "id": "IgnUBVI0U5yV"
      },
      "source": [
        "But the \"for loop\" is more efficient *and* more readable to programmers.  Indeed, it saves the repetition of writing the same command `print(n*n)` over and over again.  It also makes transparent, from the beginning, the range of values that `n` is assigned to.  \n",
        "\n",
        "When you read and write \"for loops\", you should consider how they look unravelled -- that is how Python will carry out the loop.  And when you find yourself faced with a repetetive task, you might consider whether it may be wrapped up in a for loop.  Most of the time, you should try to write code that *never repeats* the same task.  If there is repetition, wrap it in a loop."
      ]
    },
    {
      "cell_type": "markdown",
      "metadata": {
        "id": "M16fubaDU5yV"
      },
      "source": [
        "Try to unravel the loop below, and predict the result, before evaluating the code."
      ]
    },
    {
      "cell_type": "code",
      "metadata": {
        "id": "vOyvFfJcU5yW"
      },
      "source": [
        "P = 1\n",
        "for n in range(1,6):\n",
        "    P = P * n\n",
        "print(P)"
      ],
      "execution_count": null,
      "outputs": []
    },
    {
      "cell_type": "markdown",
      "metadata": {
        "id": "I79mIz44U5yW"
      },
      "source": [
        "This might have been difficult!  So what if you want to trace through the loop, as it goes?  Sometimes, especially when debugging, it's useful to inspect every step of the loop to see what Python is doing.  We can inspect the loop above, by inserting a print command within the *scope* of the loop."
      ]
    },
    {
      "cell_type": "code",
      "metadata": {
        "id": "C6bVCkZdU5yW"
      },
      "source": [
        "P = 1\n",
        "for n in range(1,6):\n",
        "    P = P * n\n",
        "    print(\"n is\",n,\"and P is\",P)\n",
        "print(P)"
      ],
      "execution_count": null,
      "outputs": []
    },
    {
      "cell_type": "markdown",
      "metadata": {
        "id": "y8kjJUJAU5yW"
      },
      "source": [
        "Here we have used the *print* command with strings and numbers together.  In Python 3.x, you can print multiple things on the same line by separating them by commas.  The \"things\" can be strings (enclosed by single or double-quotes) and numbers (int, float, etc.)."
      ]
    },
    {
      "cell_type": "code",
      "metadata": {
        "id": "wUu0BH2lU5yW"
      },
      "source": [
        "print(\"My favorite number is\",17)"
      ],
      "execution_count": null,
      "outputs": []
    },
    {
      "cell_type": "markdown",
      "metadata": {
        "id": "TPCXSm1LU5yW"
      },
      "source": [
        "If we unravel the loop above, the linear sequence of commands interpreted by Python is the following."
      ]
    },
    {
      "cell_type": "code",
      "metadata": {
        "id": "KzUl3ac7U5yW"
      },
      "source": [
        "P = 1\n",
        "n = 1\n",
        "P = P * n\n",
        "print(\"n is\",n,\"and P is\",P)\n",
        "n = 2\n",
        "P = P * n\n",
        "print(\"n is\",n,\"and P is\",P)\n",
        "n = 3\n",
        "P = P * n\n",
        "print(\"n is\",n,\"and P is\",P)\n",
        "n = 4\n",
        "P = P * n\n",
        "print(\"n is\",n,\"and P is\",P)\n",
        "n = 5\n",
        "P = P * n\n",
        "print(\"n is\",n,\"and P is\",P)\n",
        "print (P)"
      ],
      "execution_count": null,
      "outputs": []
    },
    {
      "cell_type": "markdown",
      "metadata": {
        "id": "44_u1MSrU5yW"
      },
      "source": [
        "Let's analyze the loop syntax in more detail.  \n",
        "```python\n",
        "P = 1\n",
        "for n in range(1,6):\n",
        "    P = P * n  # this command is in the scope of the loop.\n",
        "    print(\"n is\",n,\"and P is\",P)  # this command is in the scope of the loop too!\n",
        "print(P)\n",
        "```\n",
        "The \"for\" command ends with a colon `:`, and the **next two** lines are indented.  The colon and indentation are indicators of **scope**.  The *scope* of the for loop begins after the colon, and includes all indented lines.  The *scope* of the for loop is what is repeated in every step of the loop (in addition to the reassignment of `n`).  "
      ]
    },
    {
      "cell_type": "code",
      "metadata": {
        "id": "jE003_YTU5yW"
      },
      "source": [
        "P = 1\n",
        "for n in range(1,6):\n",
        "    P = P * n  # this command is in the scope of the loop.\n",
        "    print(\"n is\",n,\"and P is\",P)  # this command is in the scope of the loop too!\n",
        "print(P)"
      ],
      "execution_count": null,
      "outputs": []
    },
    {
      "cell_type": "markdown",
      "metadata": {
        "id": "8wXaf4hxU5yW"
      },
      "source": [
        "If we change the indentation, it changes the scope of the for loop.  Predict what the following loop will do, by unraveling, before evaluating it."
      ]
    },
    {
      "cell_type": "code",
      "metadata": {
        "id": "F_FcpC5QU5yX"
      },
      "source": [
        "P = 1\n",
        "for n in range(1,6):\n",
        "    P = P * n\n",
        "print(\"n is\",n,\"and P is\",P)\n",
        "print(P)"
      ],
      "execution_count": null,
      "outputs": []
    },
    {
      "cell_type": "markdown",
      "metadata": {
        "id": "__tEmpKPU5yX"
      },
      "source": [
        "Scopes can be nested by nesting indentation.  What do you think the following loop will do?  Can you unravel it?"
      ]
    },
    {
      "cell_type": "code",
      "metadata": {
        "id": "9fboPJdAU5yX"
      },
      "source": [
        "for x in [1,2,3]:\n",
        "    for y in ['a', 'b']:\n",
        "        print(x,y)"
      ],
      "execution_count": null,
      "outputs": []
    },
    {
      "cell_type": "markdown",
      "metadata": {
        "id": "HmXwPykdU5yX"
      },
      "source": [
        "How might you create a nested loop which prints `1 a` then `2 a` then `3 a` then `1 b` then `2 b` then `3 b`?  Try it below."
      ]
    },
    {
      "cell_type": "code",
      "metadata": {
        "id": "b97leVdkU5yX",
        "colab": {
          "base_uri": "https://localhost:8080/"
        },
        "outputId": "19de6cf5-67eb-4dba-c259-5bd0419a0c3d"
      },
      "source": [
        "# Insert your loop here.\n",
        "for l in ['a','b']:\n",
        "    for i in range(1,4):\n",
        "        print(i,l)"
      ],
      "execution_count": null,
      "outputs": [
        {
          "output_type": "stream",
          "name": "stdout",
          "text": [
            "1 a\n",
            "2 a\n",
            "3 a\n",
            "1 b\n",
            "2 b\n",
            "3 b\n"
          ]
        }
      ]
    },
    {
      "cell_type": "markdown",
      "metadata": {
        "id": "ofCBY24EU5yX"
      },
      "source": [
        "Among popular programming languages, Python is particular about indentation.  Other languages indicate scope with open/close braces, for example, and indentation is just a matter of style.  By requiring indentation to indicate scope, Python effectively removes the need for open/close braces, and enforces a readable style.\n",
        "\n",
        "We have now encountered data types, operations, variables, and loops.  Taken together, these are powerful tools for computation!  Now complete the following exercises for more practice."
      ]
    },
    {
      "cell_type": "markdown",
      "metadata": {
        "id": "JBr_HgrSU5yX"
      },
      "source": [
        "## Exercises"
      ]
    },
    {
      "cell_type": "markdown",
      "metadata": {
        "id": "FEQTm_WZU5yX"
      },
      "source": [
        "1.  Describe how Python interprets division with remainder when the divisor and/or dividend is negative.\n",
        "2.  What is the remainder when $2^{90}$ is divided by $91$?\n",
        "3.  How many multiples of 13 are there between 1 and 1000?\n",
        "4.  How many *odd* multiples of 13 are there between 1 and 1000?\n",
        "5.  What is the sum of the numbers from 1 to 1000?\n",
        "6.  What is the sum of the squares, from $1 \\cdot 1$ to $1000 \\cdot 1000$?\n",
        "7.  Euler proved that\n",
        "$$\\frac{1}{1^4} + \\frac{1}{2^4} + \\frac{1}{3^4} + \\cdots = \\frac{\\pi^4}{C},$$\n",
        "for some positive integer $C$.  Use Python to guess what $C$ is."
      ]
    },
    {
      "cell_type": "code",
      "metadata": {
        "id": "F870MLhKU5yX",
        "colab": {
          "base_uri": "https://localhost:8080/"
        },
        "outputId": "75cc7754-02d1-42fa-f8cd-6873b7b9a2df"
      },
      "source": [
        "# Insert your solutions here.\n",
        "# 1 \n",
        "print(-2 % 3)\n",
        "print(2 % -3)\n",
        "\n",
        "# 2\n",
        "print(2**90%2)\n",
        "\n",
        "# 3\n",
        "print(len(range(1, 1001, 13)))\n",
        "\n",
        "# 4\n",
        "print(len(range(13, 1001, 26)))\n",
        "\n",
        "# 5\n",
        "print(sum(range(1,1001)))\n",
        "\n",
        "# 6\n",
        "print(sum(x**2 for x in range(1,1001)))\n",
        "\n",
        "# 7\n",
        "s = sum(1/x**4 for x in range(1,1000))\n",
        "print(3.14**4/s)\n"
      ],
      "execution_count": null,
      "outputs": [
        {
          "output_type": "stream",
          "name": "stdout",
          "text": [
            "1\n",
            "-1\n",
            "0\n",
            "77\n",
            "38\n",
            "500500\n",
            "333833500\n",
            "89.81763410608714\n"
          ]
        }
      ]
    },
    {
      "cell_type": "markdown",
      "metadata": {
        "id": "nS9xYcpCU5yY"
      },
      "source": [
        "# Explorations\n",
        "\n",
        "Now that you have learned the basics of computation in Python and loops, we can start exploring some interesting mathematics!  We are going to look at approximation here -- some ancient questions made easier with programming."
      ]
    },
    {
      "cell_type": "markdown",
      "metadata": {
        "id": "IfPCPAu5U5yY"
      },
      "source": [
        "## Exploration 1:  Approximating square roots.\n",
        "\n",
        "We have seen how Python can do basic arithmetic -- addition, subtraction, multiplication, and division.  But what about other functions, like the square root?  In fact, Python offers a few functions for the square root, but that's not the point.  How can we compute the square root using only basic arithmetic?  \n",
        "\n",
        "Why might we care?\n",
        "\n",
        "1.  We might want to know the square root of a number with more precision than the Python function offers.\n",
        "2.  We might want to understand how the square root is computed... under the hood.\n",
        "3.  Understanding approximations of square roots and other functions is important, because we might want to approximate other functions in the future (that aren't pre-programmed for us).\n",
        "\n",
        "Here is a method for approximating the square root of a number $X$.\n",
        "\n",
        "1.  Begin with a guess $g$.\n",
        "2.  Observe that $g \\cdot (X / g) = X$.  Therefore, among the two numbers $g$ and $(X/g)$, one will be less than or equal to the square root of X, and the other will be greater than or equal to the square root.\n",
        "3.  Take the average of $g$ and $(X/g)$.  This will be closer to the square root than $g$ or $X/g$ (unless your guess is exactly right!) \n",
        "4.  Use this average as a new guess... and go back to the beginning.\n",
        "\n",
        "Now implement this in Python to approximate the square root of 2.  Use a loop, so that you can go through the approximation process 10 times or 100 times or however many you wish.  Explore the effect of different starting guesses.  Would a change in the averaging function improve the approximation?  How quickly does this converge?  How does this change if you try square roots of different positive numbers?\n",
        "\n",
        "Write your code (Python) and findings (in Markdown cells) in a readable form.  Answer the questions in complete sentences.\n",
        "\n"
      ]
    },
    {
      "cell_type": "code",
      "metadata": {
        "id": "PoGqUlqoU5yY",
        "outputId": "c55dead8-518c-43aa-9273-03f5be9f0324",
        "colab": {
          "base_uri": "https://localhost:8080/"
        }
      },
      "source": [
        "import math\n",
        "#  Start your explorations here!\n",
        "def avg(a,b):\n",
        "    return (a+b)/2\n",
        "\n",
        "epsilon = -30\n",
        "for X in range(1000):\n",
        "    g = X/10\n",
        "    A = math.sqrt(X)\n",
        "    for i in range(100):\n",
        "        if A == g or math.log(abs(A-g)) < epsilon:\n",
        "            print(str(avg)[10:str(avg).index(' ', 10)]+':', g, i)\n",
        "            break\n",
        "        g = avg(g,X/g)"
      ],
      "execution_count": 44,
      "outputs": [
        {
          "output_type": "stream",
          "name": "stdout",
          "text": [
            "avg: 0.0 0\n",
            "avg: 1.0 8\n",
            "avg: 1.4142135623730954 7\n",
            "avg: 1.7320508075688772 7\n",
            "avg: 2.0 7\n",
            "avg: 2.23606797749979 7\n",
            "avg: 2.44948974278324 6\n",
            "avg: 2.645751311064595 6\n",
            "avg: 2.8284271247461907 6\n",
            "avg: 3.0 6\n",
            "avg: 3.162277660168379 6\n",
            "avg: 3.3166247903554 6\n",
            "avg: 3.4641016151377544 6\n",
            "avg: 3.6055512754639896 6\n",
            "avg: 3.7416573867739413 6\n",
            "avg: 3.872983346207417 6\n",
            "avg: 4.0 6\n",
            "avg: 4.123105625617661 6\n",
            "avg: 4.242640687119286 6\n",
            "avg: 4.358898943540673 6\n",
            "avg: 4.47213595499958 6\n",
            "avg: 4.58257569495584 6\n",
            "avg: 4.690415759823497 5\n",
            "avg: 4.795831523312748 5\n",
            "avg: 4.898979485566368 5\n",
            "avg: 5.000000000000005 5\n",
            "avg: 5.099019513592787 5\n",
            "avg: 5.196152422706633 5\n",
            "avg: 5.291502622129181 5\n",
            "avg: 5.385164807134505 5\n",
            "avg: 5.477225575051661 5\n",
            "avg: 5.567764362830022 5\n",
            "avg: 5.65685424949238 5\n",
            "avg: 5.744562646538029 5\n",
            "avg: 5.830951894845301 5\n",
            "avg: 5.916079783099616 5\n",
            "avg: 6.0 5\n",
            "avg: 6.08276253029822 5\n",
            "avg: 6.164414002968977 5\n",
            "avg: 6.244997998398398 5\n",
            "avg: 6.324555320336758 5\n",
            "avg: 6.4031242374328485 5\n",
            "avg: 6.48074069840786 5\n",
            "avg: 6.557438524302 5\n",
            "avg: 6.6332495807108 5\n",
            "avg: 6.708203932499369 5\n",
            "avg: 6.782329983125268 5\n",
            "avg: 6.855654600401044 5\n",
            "avg: 6.928203230275509 5\n",
            "avg: 7.0 5\n",
            "avg: 7.0710678118654755 5\n",
            "avg: 7.14142842854285 5\n",
            "avg: 7.211102550927979 5\n",
            "avg: 7.280109889280518 5\n",
            "avg: 7.3484692283495345 5\n",
            "avg: 7.416198487095663 5\n",
            "avg: 7.483314773547883 5\n",
            "avg: 7.54983443527075 5\n",
            "avg: 7.615773105863909 5\n",
            "avg: 7.681145747868609 5\n",
            "avg: 7.745966692414905 4\n",
            "avg: 7.810249675906697 4\n",
            "avg: 7.874007874011836 4\n",
            "avg: 7.937253933193787 4\n",
            "avg: 8.000000000000009 4\n",
            "avg: 8.062257748298554 4\n",
            "avg: 8.124038404635964 4\n",
            "avg: 8.185352771872452 4\n",
            "avg: 8.246211251235323 4\n",
            "avg: 8.306623862918077 4\n",
            "avg: 8.366600265340756 4\n",
            "avg: 8.426149773176359 4\n",
            "avg: 8.485281374238571 4\n",
            "avg: 8.544003745317532 4\n",
            "avg: 8.602325267042627 4\n",
            "avg: 8.660254037844386 4\n",
            "avg: 8.717797887081346 4\n",
            "avg: 8.77496438739212 4\n",
            "avg: 8.831760866327848 4\n",
            "avg: 8.888194417315589 4\n",
            "avg: 8.94427190999916 4\n",
            "avg: 9.0 4\n",
            "avg: 9.055385138137417 4\n",
            "avg: 9.1104335791443 4\n",
            "avg: 9.16515138991168 4\n",
            "avg: 9.219544457292887 4\n",
            "avg: 9.273618495495704 4\n",
            "avg: 9.327379053088816 4\n",
            "avg: 9.38083151964686 4\n",
            "avg: 9.433981132056605 4\n",
            "avg: 9.486832980505138 4\n",
            "avg: 9.539392014169456 4\n",
            "avg: 9.591663046625438 4\n",
            "avg: 9.643650760992955 4\n",
            "avg: 9.695359714832723 3\n",
            "avg: 9.746794344808979 3\n",
            "avg: 9.797958971132715 3\n",
            "avg: 9.848857801796104 3\n",
            "avg: 9.899494936611665 3\n",
            "avg: 9.9498743710662 3\n",
            "avg: 10.0 0\n",
            "avg: 10.04987562112089 3\n",
            "avg: 10.099504938362077 3\n",
            "avg: 10.148891565092221 3\n",
            "avg: 10.198039027185573 3\n",
            "avg: 10.246950765959609 3\n",
            "avg: 10.295630140987042 3\n",
            "avg: 10.344080432788601 4\n",
            "avg: 10.392304845413264 4\n",
            "avg: 10.440306508910549 4\n",
            "avg: 10.488088481701515 4\n",
            "avg: 10.535653752852738 4\n",
            "avg: 10.583005244258363 4\n",
            "avg: 10.63014581273465 4\n",
            "avg: 10.677078252031311 4\n",
            "avg: 10.723805294763608 4\n",
            "avg: 10.77032961426901 4\n",
            "avg: 10.816653826391967 4\n",
            "avg: 10.862780491200215 4\n",
            "avg: 10.908712114635716 4\n",
            "avg: 10.954451150103322 4\n",
            "avg: 11.0 4\n",
            "avg: 11.045361017187261 4\n",
            "avg: 11.090536506409418 4\n",
            "avg: 11.135528725660045 4\n",
            "avg: 11.180339887498949 4\n",
            "avg: 11.224972160321824 4\n",
            "avg: 11.269427669584644 4\n",
            "avg: 11.31370849898476 4\n",
            "avg: 11.357816691600547 4\n",
            "avg: 11.401754250991381 4\n",
            "avg: 11.445523142259596 4\n",
            "avg: 11.489125293076057 4\n",
            "avg: 11.532562594670797 4\n",
            "avg: 11.575836902790225 4\n",
            "avg: 11.618950038622252 4\n",
            "avg: 11.661903789690601 4\n",
            "avg: 11.704699910719626 4\n",
            "avg: 11.747340124470732 4\n",
            "avg: 11.789826122551595 4\n",
            "avg: 11.832159566199232 4\n",
            "avg: 11.874342087037917 4\n",
            "avg: 11.916375287812986 4\n",
            "avg: 11.958260743101398 4\n",
            "avg: 12.0 4\n",
            "avg: 12.041594578792296 4\n",
            "avg: 12.083045973594572 4\n",
            "avg: 12.124355652982143 4\n",
            "avg: 12.16552506059644 4\n",
            "avg: 12.206555615733706 4\n",
            "avg: 12.247448713915894 4\n",
            "avg: 12.288205727444511 4\n",
            "avg: 12.328828005937957 4\n",
            "avg: 12.369316876852988 4\n",
            "avg: 12.409673645990864 4\n",
            "avg: 12.449899597988743 4\n",
            "avg: 12.489995996796809 4\n",
            "avg: 12.529964086141684 4\n",
            "avg: 12.569805089976555 4\n",
            "avg: 12.609520212918516 4\n",
            "avg: 12.649110640673548 4\n",
            "avg: 12.688577540449558 4\n",
            "avg: 12.727922061357901 4\n",
            "avg: 12.767145334803763 4\n",
            "avg: 12.806248474865768 4\n",
            "avg: 12.845232578665215 4\n",
            "avg: 12.884098726725124 5\n",
            "avg: 12.922847983320086 5\n",
            "avg: 12.96148139681572 5\n",
            "avg: 13.0 5\n",
            "avg: 13.038404810405297 5\n",
            "avg: 13.076696830622021 5\n",
            "avg: 13.114877048604 5\n",
            "avg: 13.152946437965905 5\n",
            "avg: 13.19090595827292 5\n",
            "avg: 13.228756555322953 5\n",
            "avg: 13.2664991614216 5\n",
            "avg: 13.30413469565007 5\n",
            "avg: 13.341664064126334 5\n",
            "avg: 13.379088160259652 5\n",
            "avg: 13.416407864998739 5\n",
            "avg: 13.45362404707371 5\n",
            "avg: 13.490737563232042 5\n",
            "avg: 13.527749258468683 5\n",
            "avg: 13.564659966250536 5\n",
            "avg: 13.601470508735442 5\n",
            "avg: 13.638181696985857 5\n",
            "avg: 13.674794331177342 5\n",
            "avg: 13.711309200802088 5\n",
            "avg: 13.74772708486752 5\n",
            "avg: 13.784048752090222 5\n",
            "avg: 13.820274961085254 5\n",
            "avg: 13.856406460551018 5\n",
            "avg: 13.892443989449806 5\n",
            "avg: 13.92838827718412 5\n",
            "avg: 13.964240043768942 5\n",
            "avg: 14.0 5\n",
            "avg: 14.0356688476182 5\n",
            "avg: 14.071247279470288 5\n",
            "avg: 14.106735979665885 5\n",
            "avg: 14.142135623730951 5\n",
            "avg: 14.177446878757825 5\n",
            "avg: 14.212670403551895 5\n",
            "avg: 14.247806848775006 5\n",
            "avg: 14.2828568570857 5\n",
            "avg: 14.317821063276353 5\n",
            "avg: 14.352700094407323 5\n",
            "avg: 14.38749456993816 5\n",
            "avg: 14.422205101855958 5\n",
            "avg: 14.45683229480096 5\n",
            "avg: 14.491376746189438 5\n",
            "avg: 14.52583904633395 5\n",
            "avg: 14.560219778561036 5\n",
            "avg: 14.594519519326425 5\n",
            "avg: 14.628738838327793 5\n",
            "avg: 14.66287829861518 5\n",
            "avg: 14.696938456699069 5\n",
            "avg: 14.730919862656236 5\n",
            "avg: 14.7648230602334 5\n",
            "avg: 14.798648586948742 5\n",
            "avg: 14.832396974191326 5\n",
            "avg: 14.866068747318504 5\n",
            "avg: 14.89966442575134 5\n",
            "avg: 14.933184523068078 5\n",
            "avg: 14.966629547095765 5\n",
            "avg: 15.0 5\n",
            "avg: 15.033296378372908 5\n",
            "avg: 15.066519173319364 5\n",
            "avg: 15.0996688705415 5\n",
            "avg: 15.132745950421555 5\n",
            "avg: 15.165750888103101 5\n",
            "avg: 15.198684153570664 5\n",
            "avg: 15.231546211727817 5\n",
            "avg: 15.264337522473749 5\n",
            "avg: 15.297058540778355 5\n",
            "avg: 15.329709716755891 5\n",
            "avg: 15.362291495737217 5\n",
            "avg: 15.394804318340652 5\n",
            "avg: 15.427248620541512 5\n",
            "avg: 15.459624833740307 5\n",
            "avg: 15.491933384829668 5\n",
            "avg: 15.524174696260022 5\n",
            "avg: 15.556349186104047 5\n",
            "avg: 15.588457268119896 5\n",
            "avg: 15.620499351813308 5\n",
            "avg: 15.652475842498529 5\n",
            "avg: 15.684387141358123 5\n",
            "avg: 15.71623364550171 5\n",
            "avg: 15.748015748023622 5\n",
            "avg: 15.7797338380595 5\n",
            "avg: 15.811388300841896 5\n",
            "avg: 15.84297951775486 5\n",
            "avg: 15.874507866387543 5\n",
            "avg: 15.905973720586866 5\n",
            "avg: 15.937377450509228 5\n",
            "avg: 15.968719422671313 5\n",
            "avg: 16.0 5\n",
            "avg: 16.0312195418814 5\n",
            "avg: 16.06237840420901 5\n",
            "avg: 16.09347693943108 5\n",
            "avg: 16.1245154965971 5\n",
            "avg: 16.15549442140351 5\n",
            "avg: 16.186414056238647 5\n",
            "avg: 16.217274740226856 5\n",
            "avg: 16.24807680927192 5\n",
            "avg: 16.278820596099706 5\n",
            "avg: 16.30950643030009 5\n",
            "avg: 16.34013463836819 5\n",
            "avg: 16.3707055437449 5\n",
            "avg: 16.401219466856723 5\n",
            "avg: 16.431676725154983 5\n",
            "avg: 16.46207763315433 5\n",
            "avg: 16.492422502470642 5\n",
            "avg: 16.522711641858308 5\n",
            "avg: 16.55294535724685 5\n",
            "avg: 16.583123951776997 5\n",
            "avg: 16.61324772583615 5\n",
            "avg: 16.64331697709324 5\n",
            "avg: 16.673332000533065 5\n",
            "avg: 16.703293088490064 5\n",
            "avg: 16.73320053068151 5\n",
            "avg: 16.76305461424021 5\n",
            "avg: 16.792855623746664 5\n",
            "avg: 16.822603841260722 5\n",
            "avg: 16.852299546352718 5\n",
            "avg: 16.88194301613413 5\n",
            "avg: 16.911534525287763 5\n",
            "avg: 16.941074346097416 5\n",
            "avg: 16.970562748477143 5\n",
            "avg: 17.0 5\n",
            "avg: 17.0293863659264 5\n",
            "avg: 17.05872210923198 5\n",
            "avg: 17.088007490635064 5\n",
            "avg: 17.11724276862369 5\n",
            "avg: 17.146428199482244 5\n",
            "avg: 17.17556403731767 5\n",
            "avg: 17.204650534085253 5\n",
            "avg: 17.233687939614086 5\n",
            "avg: 17.26267650163207 5\n",
            "avg: 17.291616465790582 5\n",
            "avg: 17.32050807568877 5\n",
            "avg: 17.349351572897472 5\n",
            "avg: 17.378147196982766 5\n",
            "avg: 17.40689518552921 5\n",
            "avg: 17.435595774162692 5\n",
            "avg: 17.46424919657298 5\n",
            "avg: 17.492855684535904 5\n",
            "avg: 17.52141546793523 5\n",
            "avg: 17.54992877478424 5\n",
            "avg: 17.578395831246944 5\n",
            "avg: 17.60681686165901 5\n",
            "avg: 17.635192088548397 5\n",
            "avg: 17.663521732655695 5\n",
            "avg: 17.69180601295413 5\n",
            "avg: 17.72004514666935 5\n",
            "avg: 17.74823934929885 5\n",
            "avg: 17.776388834631177 5\n",
            "avg: 17.804493814764854 5\n",
            "avg: 17.83255450012701 5\n",
            "avg: 17.86057109949175 5\n",
            "avg: 17.88854381999832 5\n",
            "avg: 17.916472867168917 5\n",
            "avg: 17.94435844492636 5\n",
            "avg: 17.97220075561143 5\n",
            "avg: 18.0 5\n",
            "avg: 18.027756377319946 5\n",
            "avg: 18.05547008526779 5\n",
            "avg: 18.083141320025124 5\n",
            "avg: 18.110770276274835 5\n",
            "avg: 18.138357147217054 5\n",
            "avg: 18.16590212458495 5\n",
            "avg: 18.193405398660254 5\n",
            "avg: 18.2208671582886 5\n",
            "avg: 18.24828759089466 5\n",
            "avg: 18.275666882497063 5\n",
            "avg: 18.303005217723125 5\n",
            "avg: 18.330302779823363 5\n",
            "avg: 18.35755975068582 5\n",
            "avg: 18.384776310850235 5\n",
            "avg: 18.41195263952197 5\n",
            "avg: 18.439088914585774 5\n",
            "avg: 18.466185312619388 5\n",
            "avg: 18.493242008906932 5\n",
            "avg: 18.520259177452132 5\n",
            "avg: 18.547236990991408 5\n",
            "avg: 18.57417562100671 5\n",
            "avg: 18.601075237738275 5\n",
            "avg: 18.62793601019716 5\n",
            "avg: 18.65475810617763 5\n",
            "avg: 18.681541692269406 5\n",
            "avg: 18.708286933869708 5\n",
            "avg: 18.734993995195197 5\n",
            "avg: 18.76166303929372 5\n",
            "avg: 18.78829422805594 5\n",
            "avg: 18.81488772222678 5\n",
            "avg: 18.841443681416774 5\n",
            "avg: 18.86796226411321 5\n",
            "avg: 18.894443627691185 5\n",
            "avg: 18.920887928424502 5\n",
            "avg: 18.94729532149642 5\n",
            "avg: 18.973665961010276 5\n",
            "avg: 19.0 5\n",
            "avg: 19.02629759044045 5\n",
            "avg: 19.052558883257653 5\n",
            "avg: 19.078784028338916 5\n",
            "avg: 19.104973174542803 5\n",
            "avg: 19.131126469708995 5\n",
            "avg: 19.15724406066802 5\n",
            "avg: 19.183326093250884 5\n",
            "avg: 19.20937271229855 5\n",
            "avg: 19.235384061671347 5\n",
            "avg: 19.261360284258227 5\n",
            "avg: 19.287301521985913 5\n",
            "avg: 19.31320791582797 5\n",
            "avg: 19.339079605813723 5\n",
            "avg: 19.36491673103709 5\n",
            "avg: 19.39071942966532 5\n",
            "avg: 19.416487838947603 5\n",
            "avg: 19.442222095223585 5\n",
            "avg: 19.467922333931792 5\n",
            "avg: 19.493588689617937 5\n",
            "avg: 19.51922129594314 5\n",
            "avg: 19.54482028569207 5\n",
            "avg: 19.570385790780936 5\n",
            "avg: 19.595917942265434 5\n",
            "avg: 19.621416870348593 5\n",
            "avg: 19.64688270438851 5\n",
            "avg: 19.67231557290601 5\n",
            "avg: 19.697715603592222 5\n",
            "avg: 19.72308292331603 5\n",
            "avg: 19.748417658131512 5\n",
            "avg: 19.7737199332852 5\n",
            "avg: 19.798989873223345 5\n",
            "avg: 19.824227601599024 5\n",
            "avg: 19.849433241279222 5\n",
            "avg: 19.87460691435181 5\n",
            "avg: 19.899748742132417 5\n",
            "avg: 19.924858845171293 5\n",
            "avg: 19.949937343260025 5\n",
            "avg: 19.9749843554382 5\n",
            "avg: 20.00000000000002 5\n",
            "avg: 20.02498439450081 5\n",
            "avg: 20.049937655763443 5\n",
            "avg: 20.074859899884757 5\n",
            "avg: 20.09975124224181 5\n",
            "avg: 20.124611797498133 5\n",
            "avg: 20.149441679609915 5\n",
            "avg: 20.174241001832044 5\n",
            "avg: 20.19900987672419 5\n",
            "avg: 20.223748416156717 5\n",
            "avg: 20.248456731316622 5\n",
            "avg: 20.273134932713333 5\n",
            "avg: 20.297783130184477 5\n",
            "avg: 20.322401432901618 5\n",
            "avg: 20.34698994937585 5\n",
            "avg: 20.37154878746341 5\n",
            "avg: 20.396078054371188 5\n",
            "avg: 20.42057785666219 5\n",
            "avg: 20.44504830026093 5\n",
            "avg: 20.469489490458777 5\n",
            "avg: 20.493901531919256 5\n",
            "avg: 20.518284528683253 5\n",
            "avg: 20.542638584174206 5\n",
            "avg: 20.5669638012032 5\n",
            "avg: 20.591260281974076 5\n",
            "avg: 20.615528128088382 5\n",
            "avg: 20.639767440550376 5\n",
            "avg: 20.66397831977191 5\n",
            "avg: 20.68816086557729 5\n",
            "avg: 20.712315177207977 6\n",
            "avg: 20.73644135332772 6\n",
            "avg: 20.760539492026695 6\n",
            "avg: 20.784609690826528 6\n",
            "avg: 20.808652046684813 6\n",
            "avg: 20.83266665599966 6\n",
            "avg: 20.85665361461421 6\n",
            "avg: 20.880613017821098 6\n",
            "avg: 20.90454496036687 6\n",
            "avg: 20.92844953645635 6\n",
            "avg: 20.952326839756964 6\n",
            "avg: 20.97617696340303 6\n",
            "avg: 21.0 6\n",
            "avg: 21.02379604162864 6\n",
            "avg: 21.047565179849187 6\n",
            "avg: 21.071307505705477 6\n",
            "avg: 21.095023109728984 6\n",
            "avg: 21.118712081942874 6\n",
            "avg: 21.142374511865974 6\n",
            "avg: 21.166010488516726 6\n",
            "avg: 21.18962010041709 6\n",
            "avg: 21.213203435596427 6\n",
            "avg: 21.236760581595302 6\n",
            "avg: 21.2602916254693 6\n",
            "avg: 21.283796653792763 6\n",
            "avg: 21.307275752662516 6\n",
            "avg: 21.330729007701542 6\n",
            "avg: 21.354156504062622 6\n",
            "avg: 21.377558326431952 6\n",
            "avg: 21.4009345590327 6\n",
            "avg: 21.42428528562855 6\n",
            "avg: 21.447610589527216 6\n",
            "avg: 21.470910553583888 6\n",
            "avg: 21.494185260204677 6\n",
            "avg: 21.517434791350013 6\n",
            "avg: 21.54065922853802 6\n",
            "avg: 21.563858652847827 6\n",
            "avg: 21.587033144922906 6\n",
            "avg: 21.61018278497431 6\n",
            "avg: 21.633307652783934 6\n",
            "avg: 21.656407827707717 6\n",
            "avg: 21.679483388678797 6\n",
            "avg: 21.702534414210703 6\n",
            "avg: 21.72556098240043 6\n",
            "avg: 21.748563170931547 6\n",
            "avg: 21.771541057077243 6\n",
            "avg: 21.794494717703365 6\n",
            "avg: 21.81742422927143 6\n",
            "avg: 21.840329667841555 6\n",
            "avg: 21.863211109075444 6\n",
            "avg: 21.88606862823929 6\n",
            "avg: 21.908902300206645 6\n",
            "avg: 21.93171219946131 6\n",
            "avg: 21.95449840010015 6\n",
            "avg: 21.97726097583591 6\n",
            "avg: 22.0 6\n",
            "avg: 22.02271554554524 6\n",
            "avg: 22.045407685048602 6\n",
            "avg: 22.068076490713914 6\n",
            "avg: 22.090722034374522 6\n",
            "avg: 22.11334438749598 6\n",
            "avg: 22.135943621178654 6\n",
            "avg: 22.15851980616034 6\n",
            "avg: 22.181073012818835 6\n",
            "avg: 22.20360331117452 6\n",
            "avg: 22.22611077089287 6\n",
            "avg: 22.24859546128699 6\n",
            "avg: 22.27105745132009 6\n",
            "avg: 22.29349680960795 6\n",
            "avg: 22.315913604421397 6\n",
            "avg: 22.338307903688676 6\n",
            "avg: 22.360679774997898 6\n",
            "avg: 22.38302928559939 6\n",
            "avg: 22.40535650240808 6\n",
            "avg: 22.427661492005804 6\n",
            "avg: 22.44994432064365 6\n",
            "avg: 22.47220505424423 6\n",
            "avg: 22.494443758403985 6\n",
            "avg: 22.516660498395403 6\n",
            "avg: 22.538855339169288 6\n",
            "avg: 22.561028345356956 6\n",
            "avg: 22.583179581272432 6\n",
            "avg: 22.605309110914632 6\n",
            "avg: 22.62741699796952 6\n",
            "avg: 22.64950330581225 6\n",
            "avg: 22.671568097509265 6\n",
            "avg: 22.693611435820436 6\n",
            "avg: 22.715633383201094 6\n",
            "avg: 22.737634001804146 6\n",
            "avg: 22.759613353482084 6\n",
            "avg: 22.781571499789035 6\n",
            "avg: 22.803508501982762 6\n",
            "avg: 22.825424421026653 6\n",
            "avg: 22.847319317591726 6\n",
            "avg: 22.869193252058544 6\n",
            "avg: 22.89104628451919 6\n",
            "avg: 22.9128784747792 6\n",
            "avg: 22.93468988235943 6\n",
            "avg: 22.956480566497994 6\n",
            "avg: 22.978250586152114 6\n",
            "avg: 23.0 6\n",
            "avg: 23.02172886644268 6\n",
            "avg: 23.043437243605823 6\n",
            "avg: 23.065125189341593 6\n",
            "avg: 23.08679276123039 6\n",
            "avg: 23.108440016582684 6\n",
            "avg: 23.130067012440755 6\n",
            "avg: 23.15167380558045 6\n",
            "avg: 23.173260452512935 6\n",
            "avg: 23.194827009486403 6\n",
            "avg: 23.2163735324878 6\n",
            "avg: 23.237900077244504 6\n",
            "avg: 23.259406699226012 6\n",
            "avg: 23.280893453645632 6\n",
            "avg: 23.302360395462088 6\n",
            "avg: 23.323807579381203 6\n",
            "avg: 23.345235059857504 6\n",
            "avg: 23.366642891095843 6\n",
            "avg: 23.388031127052997 6\n",
            "avg: 23.40939982143925 6\n",
            "avg: 23.430749027719962 6\n",
            "avg: 23.452078799117146 6\n",
            "avg: 23.473389188611005 6\n",
            "avg: 23.494680248941464 6\n",
            "avg: 23.515952032609697 6\n",
            "avg: 23.53720459187964 6\n",
            "avg: 23.558437978779494 6\n",
            "avg: 23.57965224510319 6\n",
            "avg: 23.600847442411894 6\n",
            "avg: 23.622023622035435 6\n",
            "avg: 23.643180835073778 6\n",
            "avg: 23.664319132398465 6\n",
            "avg: 23.68543856465402 6\n",
            "avg: 23.706539182259398 6\n",
            "avg: 23.727621035409342 6\n",
            "avg: 23.748684174075834 6\n",
            "avg: 23.769728648009426 6\n",
            "avg: 23.79075450674064 6\n",
            "avg: 23.811761799581316 6\n",
            "avg: 23.832750575625973 6\n",
            "avg: 23.853720883753127 6\n",
            "avg: 23.874672772626646 6\n",
            "avg: 23.89560629069704 6\n",
            "avg: 23.916521486202797 6\n",
            "avg: 23.93741840717165 6\n",
            "avg: 23.958297101421877 6\n",
            "avg: 23.979157616563597 6\n",
            "avg: 24.0 6\n",
            "avg: 24.020824298928627 6\n",
            "avg: 24.041630560342618 6\n",
            "avg: 24.062418831031927 6\n",
            "avg: 24.08318915758459 6\n",
            "avg: 24.103941586387897 6\n",
            "avg: 24.124676163629637 6\n",
            "avg: 24.14539293529927 6\n",
            "avg: 24.166091947189145 6\n",
            "avg: 24.186773244895647 6\n",
            "avg: 24.20743687382041 6\n",
            "avg: 24.228082879171435 6\n",
            "avg: 24.24871130596428 6\n",
            "avg: 24.269322199023193 6\n",
            "avg: 24.28991560298224 6\n",
            "avg: 24.310491562286437 6\n",
            "avg: 24.33105012119288 6\n",
            "avg: 24.351591323771842 6\n",
            "avg: 24.372115213907882 6\n",
            "avg: 24.392621835300936 6\n",
            "avg: 24.413111231467404 6\n",
            "avg: 24.433583445741235 6\n",
            "avg: 24.454038521274967 6\n",
            "avg: 24.474476501040833 6\n",
            "avg: 24.49489742783178 6\n",
            "avg: 24.515301344262525 6\n",
            "avg: 24.535688292770594 6\n",
            "avg: 24.55605831561735 6\n",
            "avg: 24.576411454889016 6\n",
            "avg: 24.596747752497684 6\n",
            "avg: 24.61706725018234 6\n",
            "avg: 24.637369989509835 6\n",
            "avg: 24.657656011875908 6\n",
            "avg: 24.67792535850613 6\n",
            "avg: 24.69817807045694 6\n",
            "avg: 24.71841418861655 6\n",
            "avg: 24.73863375370596 6\n",
            "avg: 24.758836806279895 6\n",
            "avg: 24.779023386727737 6\n",
            "avg: 24.79919353527449 6\n",
            "avg: 24.819347291981714 6\n",
            "avg: 24.839484696748443 6\n",
            "avg: 24.859605789312106 6\n",
            "avg: 24.879710609249457 6\n",
            "avg: 24.899799195977465 6\n",
            "avg: 24.919871588754226 6\n",
            "avg: 24.939927826679853 6\n",
            "avg: 24.95996794869737 6\n",
            "avg: 24.979991993593593 6\n",
            "avg: 25.0 6\n",
            "avg: 25.019992006393608 6\n",
            "avg: 25.03996805109783 6\n",
            "avg: 25.059928172283335 6\n",
            "avg: 25.079872407968907 6\n",
            "avg: 25.099800796022265 6\n",
            "avg: 25.119713374160938 6\n",
            "avg: 25.139610179953067 6\n",
            "avg: 25.15949125081825 6\n",
            "avg: 25.179356624028344 6\n",
            "avg: 25.199206336708308 6\n",
            "avg: 25.219040425836983 6\n",
            "avg: 25.238858928247925 6\n",
            "avg: 25.25866188063018 6\n",
            "avg: 25.278449319529074 6\n",
            "avg: 25.298221281347033 6\n",
            "avg: 25.317977802344323 6\n",
            "avg: 25.337718918639855 6\n",
            "avg: 25.357444666211933 6\n",
            "avg: 25.37715508089904 6\n",
            "avg: 25.39685019840059 6\n",
            "avg: 25.41653005427767 6\n",
            "avg: 25.436194683953808 6\n",
            "avg: 25.45584412271571 6\n",
            "avg: 25.475478405713993 6\n",
            "avg: 25.495097567963924 6\n",
            "avg: 25.514701644346147 6\n",
            "avg: 25.534290669607408 6\n",
            "avg: 25.553864678361276 6\n",
            "avg: 25.573423705088842 6\n",
            "avg: 25.592967784139454 6\n",
            "avg: 25.612496949731394 6\n",
            "avg: 25.632011235952593 6\n",
            "avg: 25.65151067676132 6\n",
            "avg: 25.67099530598687 6\n",
            "avg: 25.69046515733026 6\n",
            "avg: 25.709920264364882 6\n",
            "avg: 25.729360660537214 6\n",
            "avg: 25.748786379167466 6\n",
            "avg: 25.76819745345025 6\n",
            "avg: 25.787593916455254 6\n",
            "avg: 25.80697580112788 6\n",
            "avg: 25.826343140289914 6\n",
            "avg: 25.84569596664017 6\n",
            "avg: 25.865034312755125 6\n",
            "avg: 25.88435821108957 6\n",
            "avg: 25.903667693977237 6\n",
            "avg: 25.92296279363144 6\n",
            "avg: 25.942243542145697 6\n",
            "avg: 25.961509971494337 6\n",
            "avg: 25.98076211353316 6\n",
            "avg: 26.0 6\n",
            "avg: 26.019223662515373 6\n",
            "avg: 26.038433132583073 6\n",
            "avg: 26.057628441590765 6\n",
            "avg: 26.076809620810593 6\n",
            "avg: 26.095976701399778 6\n",
            "avg: 26.115129714401192 6\n",
            "avg: 26.13426869074396 6\n",
            "avg: 26.153393661244042 6\n",
            "avg: 26.1725046566048 6\n",
            "avg: 26.19160170741759 6\n",
            "avg: 26.210684844162316 6\n",
            "avg: 26.229754097208 6\n",
            "avg: 26.248809496813372 6\n",
            "avg: 26.267851073127396 6\n",
            "avg: 26.28687885618983 6\n",
            "avg: 26.30589287593181 6\n",
            "avg: 26.324893162176366 6\n",
            "avg: 26.343879744638983 6\n",
            "avg: 26.362852652928133 6\n",
            "avg: 26.38181191654584 6\n",
            "avg: 26.40075756488817 6\n",
            "avg: 26.419689627245813 6\n",
            "avg: 26.43860813280457 6\n",
            "avg: 26.457513110645905 6\n",
            "avg: 26.476404589747453 6\n",
            "avg: 26.495282598983543 6\n",
            "avg: 26.514147167125707 6\n",
            "avg: 26.5329983228432 6\n",
            "avg: 26.551836094703507 6\n",
            "avg: 26.570660511172846 6\n",
            "avg: 26.589471600616662 6\n",
            "avg: 26.60826939130014 6\n",
            "avg: 26.627053911388693 6\n",
            "avg: 26.645825188948457 6\n",
            "avg: 26.664583251946766 6\n",
            "avg: 26.68332812825267 6\n",
            "avg: 26.70205984563738 6\n",
            "avg: 26.720778431774775 6\n",
            "avg: 26.739483914241873 6\n",
            "avg: 26.758176320519304 6\n",
            "avg: 26.77685567799177 6\n",
            "avg: 26.795522013948524 6\n",
            "avg: 26.814175355583842 6\n",
            "avg: 26.832815729997478 6\n",
            "avg: 26.851443164195103 6\n",
            "avg: 26.870057685088806 6\n",
            "avg: 26.888659319497506 6\n",
            "avg: 26.90724809414742 6\n",
            "avg: 26.92582403567252 6\n",
            "avg: 26.94438717061496 6\n",
            "avg: 26.962937525425524 6\n",
            "avg: 26.981475126464083 6\n",
            "avg: 27.0 6\n",
            "avg: 27.018512172212592 6\n",
            "avg: 27.03701166919155 6\n",
            "avg: 27.055498516937366 6\n",
            "avg: 27.073972741361768 6\n",
            "avg: 27.09243436828813 6\n",
            "avg: 27.110883423451916 6\n",
            "avg: 27.129319932501073 6\n",
            "avg: 27.147743920996454 6\n",
            "avg: 27.166155414412252 6\n",
            "avg: 27.184554438136374 6\n",
            "avg: 27.202941017470884 6\n",
            "avg: 27.2213151776324 6\n",
            "avg: 27.23967694375247 6\n",
            "avg: 27.25802634087802 6\n",
            "avg: 27.276363393971714 6\n",
            "avg: 27.29468812791236 6\n",
            "avg: 27.313000567495326 6\n",
            "avg: 27.331300737432898 6\n",
            "avg: 27.349588662354684 6\n",
            "avg: 27.367864366808018 6\n",
            "avg: 27.386127875258303 6\n",
            "avg: 27.404379212089445 6\n",
            "avg: 27.422618401604176 6\n",
            "avg: 27.440845468024484 6\n",
            "avg: 27.459060435491963 6\n",
            "avg: 27.477263328068172 6\n",
            "avg: 27.49545416973504 6\n",
            "avg: 27.51363298439521 6\n",
            "avg: 27.53179979587241 6\n",
            "avg: 27.549954627911823 6\n",
            "avg: 27.568097504180443 6\n",
            "avg: 27.58622844826744 6\n",
            "avg: 27.60434748368452 6\n",
            "avg: 27.62245463386627 6\n",
            "avg: 27.640549922170507 6\n",
            "avg: 27.65863337187866 6\n",
            "avg: 27.676705006196094 6\n",
            "avg: 27.694764848252458 6\n",
            "avg: 27.712812921102035 6\n",
            "avg: 27.730849247724095 6\n",
            "avg: 27.748873851023216 6\n",
            "avg: 27.76688675382964 6\n",
            "avg: 27.78488797889961 6\n",
            "avg: 27.80287754891569 6\n",
            "avg: 27.820855486487112 6\n",
            "avg: 27.83882181415011 6\n",
            "avg: 27.85677655436824 6\n",
            "avg: 27.874719729532707 6\n",
            "avg: 27.892651361962706 6\n",
            "avg: 27.910571473905726 6\n",
            "avg: 27.928480087537885 6\n",
            "avg: 27.94637722496424 6\n",
            "avg: 27.964262908219126 6\n",
            "avg: 27.982137159266443 6\n",
            "avg: 28.0 6\n",
            "avg: 28.0178514522438 6\n",
            "avg: 28.03569153775237 6\n",
            "avg: 28.053520278211074 6\n",
            "avg: 28.0713376952364 6\n",
            "avg: 28.089143810376278 6\n",
            "avg: 28.10693864511039 6\n",
            "avg: 28.124722220850465 6\n",
            "avg: 28.142494558940577 6\n",
            "avg: 28.160255680657446 6\n",
            "avg: 28.178005607210743 6\n",
            "avg: 28.19574435974337 6\n",
            "avg: 28.21347195933177 6\n",
            "avg: 28.231188426986208 6\n",
            "avg: 28.24889378365107 6\n",
            "avg: 28.26658805020514 6\n",
            "avg: 28.284271247461902 6\n",
            "avg: 28.30194339616981 6\n",
            "avg: 28.319604517012593 6\n",
            "avg: 28.337254630609507 6\n",
            "avg: 28.35489375751565 6\n",
            "avg: 28.372521918222215 6\n",
            "avg: 28.39013913315678 6\n",
            "avg: 28.407745422683583 6\n",
            "avg: 28.42534080710379 6\n",
            "avg: 28.442925306655784 6\n",
            "avg: 28.460498941515414 6\n",
            "avg: 28.478061731796284 6\n",
            "avg: 28.495613697550013 6\n",
            "avg: 28.513154858766505 6\n",
            "avg: 28.53068523537421 6\n",
            "avg: 28.548204847240395 6\n",
            "avg: 28.5657137141714 6\n",
            "avg: 28.583211855912904 6\n",
            "avg: 28.600699292150182 6\n",
            "avg: 28.61817604250837 6\n",
            "avg: 28.635642126552707 6\n",
            "avg: 28.653097563788805 6\n",
            "avg: 28.670542373662904 6\n",
            "avg: 28.687976575562104 6\n",
            "avg: 28.705400188814647 6\n",
            "avg: 28.722813232690143 6\n",
            "avg: 28.74021572639983 6\n",
            "avg: 28.757607689096808 6\n",
            "avg: 28.77498913987632 6\n",
            "avg: 28.792360097775937 6\n",
            "avg: 28.809720581775867 6\n",
            "avg: 28.827070610799147 6\n",
            "avg: 28.844410203711917 6\n",
            "avg: 28.861739379323623 6\n",
            "avg: 28.879058156387302 6\n",
            "avg: 28.89636655359978 6\n",
            "avg: 28.91366458960192 6\n",
            "avg: 28.930952282978865 6\n",
            "avg: 28.94822965226026 6\n",
            "avg: 28.96549671592048 6\n",
            "avg: 28.982753492378876 6\n",
            "avg: 29.0 6\n",
            "avg: 29.017236257093817 6\n",
            "avg: 29.03446228191595 6\n",
            "avg: 29.0516780926679 6\n",
            "avg: 29.068883707497264 6\n",
            "avg: 29.086079144497972 6\n",
            "avg: 29.1032644217105 6\n",
            "avg: 29.120439557122072 6\n",
            "avg: 29.13760456866693 6\n",
            "avg: 29.154759474226502 6\n",
            "avg: 29.171904291629644 6\n",
            "avg: 29.18903903865285 6\n",
            "avg: 29.206163733020468 6\n",
            "avg: 29.223278392404914 6\n",
            "avg: 29.24038303442689 6\n",
            "avg: 29.257477676655586 6\n",
            "avg: 29.274562336608895 6\n",
            "avg: 29.29163703175362 6\n",
            "avg: 29.30870177950569 6\n",
            "avg: 29.32575659723036 6\n",
            "avg: 29.34280150224242 6\n",
            "avg: 29.359836511806396 6\n",
            "avg: 29.376861643136763 6\n",
            "avg: 29.393876913398138 6\n",
            "avg: 29.410882339705488 6\n",
            "avg: 29.427877939124322 6\n",
            "avg: 29.444863728670914 6\n",
            "avg: 29.461839725312473 6\n",
            "avg: 29.478805945967352 6\n",
            "avg: 29.495762407505254 6\n",
            "avg: 29.51270912674741 6\n",
            "avg: 29.5296461204668 6\n",
            "avg: 29.546573405388315 6\n",
            "avg: 29.563490998188968 6\n",
            "avg: 29.58039891549808 6\n",
            "avg: 29.597297173897484 6\n",
            "avg: 29.61418578992169 6\n",
            "avg: 29.631064780058107 6\n",
            "avg: 29.647934160747187 6\n",
            "avg: 29.664793948382652 6\n",
            "avg: 29.68164415931166 6\n",
            "avg: 29.698484809834994 6\n",
            "avg: 29.715315916207253 6\n",
            "avg: 29.73213749463701 6\n",
            "avg: 29.748949561287034 6\n",
            "avg: 29.765752132274436 6\n",
            "avg: 29.78254522367086 6\n",
            "avg: 29.79932885150268 6\n",
            "avg: 29.816103031751148 6\n",
            "avg: 29.832867780352593 6\n",
            "avg: 29.849623113198597 6\n",
            "avg: 29.866369046136157 6\n",
            "avg: 29.88310559496787 6\n",
            "avg: 29.899832775452104 6\n",
            "avg: 29.916550603303182 6\n",
            "avg: 29.93325909419153 6\n",
            "avg: 29.949958263743873 6\n",
            "avg: 29.966648127543394 6\n",
            "avg: 29.9833287011299 6\n",
            "avg: 30.0 6\n",
            "avg: 30.01666203960727 6\n",
            "avg: 30.03331483536241 6\n",
            "avg: 30.049958402633436 6\n",
            "avg: 30.066592756745816 6\n",
            "avg: 30.083217912982647 6\n",
            "avg: 30.099833886584825 6\n",
            "avg: 30.116440692751194 6\n",
            "avg: 30.133038346638727 6\n",
            "avg: 30.14962686336267 6\n",
            "avg: 30.166206257996713 6\n",
            "avg: 30.18277654557314 6\n",
            "avg: 30.199337741083 6\n",
            "avg: 30.215889859476256 6\n",
            "avg: 30.232432915661946 6\n",
            "avg: 30.24896692450835 6\n",
            "avg: 30.26549190084311 6\n",
            "avg: 30.282007859453444 6\n",
            "avg: 30.298514815086236 6\n",
            "avg: 30.315012782448235 6\n",
            "avg: 30.331501776206203 6\n",
            "avg: 30.347981810987037 6\n",
            "avg: 30.364452901377952 6\n",
            "avg: 30.380915061926622 6\n",
            "avg: 30.397368307141328 6\n",
            "avg: 30.4138126514911 6\n",
            "avg: 30.430248109405877 6\n",
            "avg: 30.44667469527666 6\n",
            "avg: 30.463092423455635 6\n",
            "avg: 30.47950130825634 6\n",
            "avg: 30.495901363953813 6\n",
            "avg: 30.512292604784715 6\n",
            "avg: 30.528675044947498 6\n",
            "avg: 30.54504869860253 6\n",
            "avg: 30.56141357987225 6\n",
            "avg: 30.57776970284131 6\n",
            "avg: 30.59411708155671 6\n",
            "avg: 30.610455730027937 6\n",
            "avg: 30.626785662227107 6\n",
            "avg: 30.643106892089122 6\n",
            "avg: 30.659419433511783 6\n",
            "avg: 30.675723300355934 6\n",
            "avg: 30.692018506445613 6\n",
            "avg: 30.708305065568176 6\n",
            "avg: 30.724582991474435 6\n",
            "avg: 30.740852297878796 6\n",
            "avg: 30.757112998459398 6\n",
            "avg: 30.773365106858236 6\n",
            "avg: 30.789608636681304 6\n",
            "avg: 30.805843601498726 6\n",
            "avg: 30.822070014844883 6\n",
            "avg: 30.83828789021855 6\n",
            "avg: 30.854497241083024 6\n",
            "avg: 30.870698080866262 6\n",
            "avg: 30.886890422961002 6\n",
            "avg: 30.903074280724887 6\n",
            "avg: 30.919249667480614 6\n",
            "avg: 30.93541659651604 6\n",
            "avg: 30.95157508108432 6\n",
            "avg: 30.967725134404045 6\n",
            "avg: 30.983866769659336 6\n",
            "avg: 31.0 6\n",
            "avg: 31.016124838541643 6\n",
            "avg: 31.032241298365804 6\n",
            "avg: 31.048349392520045 6\n",
            "avg: 31.064449134018133 6\n",
            "avg: 31.080540535840107 6\n",
            "avg: 31.096623610932426 6\n",
            "avg: 31.112698372208094 6\n",
            "avg: 31.12876483254676 6\n",
            "avg: 31.144823004794873 6\n",
            "avg: 31.160872901765764 6\n",
            "avg: 31.176914536239792 6\n",
            "avg: 31.192947920964443 6\n",
            "avg: 31.20897306865447 6\n",
            "avg: 31.22498999199199 6\n",
            "avg: 31.240998703626616 6\n",
            "avg: 31.256999216175565 6\n",
            "avg: 31.272991542223778 6\n",
            "avg: 31.28897569432403 6\n",
            "avg: 31.304951684997057 6\n",
            "avg: 31.32091952673165 6\n",
            "avg: 31.336879231984796 6\n",
            "avg: 31.352830813181768 6\n",
            "avg: 31.368774282716245 6\n",
            "avg: 31.384709652950434 6\n",
            "avg: 31.400636936215164 6\n",
            "avg: 31.416556144810016 6\n",
            "avg: 31.43246729100342 6\n",
            "avg: 31.448370387032774 6\n",
            "avg: 31.464265445104544 6\n",
            "avg: 31.480152477394387 6\n",
            "avg: 31.496031496047245 6\n",
            "avg: 31.51190251317746 6\n",
            "avg: 31.52776554086889 6\n",
            "avg: 31.543620591175006 6\n",
            "avg: 31.559467676119 6\n",
            "avg: 31.575306807693888 6\n",
            "avg: 31.591137997862628 6\n",
            "avg: 31.606961258558215 6\n"
          ]
        }
      ]
    },
    {
      "cell_type": "markdown",
      "metadata": {
        "id": "gHxmSYaoc8v0"
      },
      "source": [
        "Describe your findings here."
      ]
    },
    {
      "cell_type": "markdown",
      "source": [
        "This method of square root approximation is extremely fast at converging to the true value of the root. On average the arithmetic mean takes usually about 5 iterations to get to within 10^-30 of the true value. however the number of iterations increases (albeit with a poor guessing function) with the actual value. "
      ],
      "metadata": {
        "id": "dnWBwNFy6-bL"
      }
    },
    {
      "cell_type": "markdown",
      "metadata": {
        "id": "fOUbCcfxU5yY"
      },
      "source": [
        "## Exploration 2:  Approximating e and pi.\n",
        "\n",
        "Now we approximate two of the most important constants in mathematics:  e and pi.  There are multiple approaches, but e is pretty easy with the series expansion of e^x.  First, approximate e by evaluating the Taylor series expansion of e^x at x=1.  I.e., remember from calculus that\n",
        "$$e^x = 1 + x + \\frac{1}{2} x^2 + \\frac{1}{3!} x^3 + \\frac{1}{4!} x^4 + \\cdots.$$\n",
        "How many terms are necessary before the float stabilizes?  Use a loop, with a running product for the factorials and running sums for the series."
      ]
    },
    {
      "cell_type": "code",
      "metadata": {
        "id": "cH0ApCftU5yY",
        "outputId": "1042715d-dc9a-4cfb-9a87-ecf6327d1c6e",
        "colab": {
          "base_uri": "https://localhost:8080/"
        }
      },
      "source": [
        "#  Approximate e here.\n",
        "F = 1\n",
        "e = 0\n",
        "for i in range(1, 100):\n",
        "    if math.log(abs(math.e-e)) < epsilon:\n",
        "        print(e, i)\n",
        "        break\n",
        "    e += 1/F\n",
        "    F *= i"
      ],
      "execution_count": 46,
      "outputs": [
        {
          "output_type": "stream",
          "name": "stdout",
          "text": [
            "2.718281828458995 17\n"
          ]
        }
      ]
    },
    {
      "cell_type": "markdown",
      "metadata": {
        "id": "YYhT-tDRU5yY"
      },
      "source": [
        "Next we will approximate pi, which is much more interesting.  We can try a few approaches.  For a series-approach (like e), we need a series that converges to pi.  A simple example is the arctangent atan(x).  Recall (precalculus!) that $atan(1) = \\pi/4$.  Moreover, the derivative of $atan(x)$ is $1 / (1+x^2)$.  \n",
        "\n",
        "1.  Figure out the Taylor series of $1 / (1+x^2)$ near $x=0$.  Note that this is a geometric series! \n",
        "\n",
        "2.  Figure out the Taylor series of $atan(x)$ near $x=0$ by taking the antiderivative, term by term, of the above.\n",
        "\n",
        "3.  Try to estimate $\\pi$ with this series, using many terms of the series."
      ]
    },
    {
      "cell_type": "code",
      "metadata": {
        "id": "wYlwMQxBU5yY",
        "outputId": "3b6152f5-c0ab-4993-9a82-04878de7bd5a",
        "colab": {
          "base_uri": "https://localhost:8080/"
        }
      },
      "source": [
        "#  Approximate pi here!\n",
        "# 1/(1+x^2) = 1-x^2+x^4-x^6+x^8...\n",
        "# atan(x) = x-x^3/3+x^5/5-x^7/7...\n",
        "pi = 0\n",
        "for i in range(1000):\n",
        "    if math.log(abs(math.pi-pi)) < -5:\n",
        "        print(pi, i)\n",
        "        break\n",
        "    pi += (-1)**i*4/(2*i+1)"
      ],
      "execution_count": 58,
      "outputs": [
        {
          "output_type": "stream",
          "name": "stdout",
          "text": [
            "3.148303987414492 149\n"
          ]
        }
      ]
    },
    {
      "cell_type": "markdown",
      "metadata": {
        "id": "77BvRTGFU5yY"
      },
      "source": [
        "Now we'll accelerate things a bit.  There's a famous formula of Machin (1706) who computed the first hundred digits of $\\pi$.  We'll use his identity:\n",
        "\n",
        "$\\pi/4 = 4 \\cdot atan(1/5) - atan(1 / 239)$.  \n",
        "\n",
        "This isn't obvious, but there's a tedious proof using sum/difference identities in trig.\n",
        "\n",
        "Try using this formula now to approximate $\\pi$, using your Taylor series for $atan(x)$.  It should require fewer terms."
      ]
    },
    {
      "cell_type": "code",
      "metadata": {
        "id": "71EwcYnMU5yY",
        "outputId": "c6e35108-6b15-4140-c1da-e89293bce508",
        "colab": {
          "base_uri": "https://localhost:8080/"
        }
      },
      "source": [
        "#  Approximate pi more quickly here!\n",
        "pi = 0\n",
        "for i in range(1000):\n",
        "    if math.log(abs(math.pi-pi)) < -30:\n",
        "        print(pi, i)\n",
        "        break\n",
        "    pi += 4*(-1)**i*(4*(1/5)**(2*i+1)/(2*i+1)-(1/239)**(2*i+1)/(2*i+1))"
      ],
      "execution_count": 65,
      "outputs": [
        {
          "output_type": "stream",
          "name": "stdout",
          "text": [
            "3.1415926535898366 9\n"
          ]
        }
      ]
    },
    {
      "cell_type": "markdown",
      "metadata": {
        "id": "NazcANnNU5yY"
      },
      "source": [
        "Now let's compare this to **Archimedes' method**.  Archimedes approximated pi by looking at the perimeters $p(n)$ and $P(n)$ of ($2^n$)-gons inscribed in and circumscribed around a unit circle.  So $p(2)$ is the perimeter of a square inscribed in the unit circle.  $P(2)$ is the perimeter of a square circumscribed around a unit circle.\n",
        "\n",
        "Archimedes proved the following (not in the formulaic language of algebra):  For all $n \\geq 2$,\n",
        "\n",
        "(P-formula)  $P(n+1) = \\frac{2  p(n) P(n)}{p(n) + P(n)}$.\n",
        "\n",
        "(p-formula)  $p(n+1) = \\sqrt{ p(n)  P(n+1) }$.\n",
        "\n",
        "1.  Compute $p(2)$ and $P(2)$.\n",
        "\n",
        "2.  Use these formulas to compute $p(10)$ and $P(10)$.  Use this to get a good approximation for $\\pi$!\n",
        "\n",
        "We could use our previous sqrt function if you want, we'll take a fancier high-precision approach.  \"mpmath\" is a Python package for high-precision calculation.  It should be accessible through Google Colab.  You can read the full documentation at http://mpmath.org/doc/current/\n",
        "\n",
        "First we load the package and print its status."
      ]
    },
    {
      "cell_type": "code",
      "metadata": {
        "id": "uJZZ9M_PU5yZ",
        "outputId": "aafc6da5-a3bc-4077-d495-525ead8c97fd",
        "colab": {
          "base_uri": "https://localhost:8080/"
        }
      },
      "source": [
        "from mpmath import *\n",
        "print(mp)"
      ],
      "execution_count": 67,
      "outputs": [
        {
          "output_type": "stream",
          "name": "stdout",
          "text": [
            "Mpmath settings:\n",
            "  mp.prec = 53                [default: 53]\n",
            "  mp.dps = 15                 [default: 15]\n",
            "  mp.trap_complex = False     [default: False]\n"
          ]
        }
      ]
    },
    {
      "cell_type": "markdown",
      "metadata": {
        "id": "17mWwbgyU5yZ"
      },
      "source": [
        "The number mp.dps is (roughly) the number of decimal digits that mpmath will keep track of in its computations.  mp.prec is the binary precision, a bit more than 3 times the decimal precision.  We can change this to whatever we want."
      ]
    },
    {
      "cell_type": "code",
      "metadata": {
        "id": "f2aNKEWeU5yZ",
        "outputId": "4b3d1251-92fa-48ae-b685-a52e9ce761ef",
        "colab": {
          "base_uri": "https://localhost:8080/"
        }
      },
      "source": [
        "mp.dps = 50 # Let's try 50 digits precision to start.\n",
        "print(mp)"
      ],
      "execution_count": 68,
      "outputs": [
        {
          "output_type": "stream",
          "name": "stdout",
          "text": [
            "Mpmath settings:\n",
            "  mp.prec = 169               [default: 53]\n",
            "  mp.dps = 50                 [default: 15]\n",
            "  mp.trap_complex = False     [default: False]\n"
          ]
        }
      ]
    },
    {
      "cell_type": "markdown",
      "metadata": {
        "id": "AVFYKq9hU5yZ"
      },
      "source": [
        "mpmath has a nice function for square roots.  Compare this to your approximation from before!"
      ]
    },
    {
      "cell_type": "code",
      "metadata": {
        "scrolled": true,
        "id": "IynhKMaLU5yZ",
        "outputId": "d936e9dd-49c7-489c-da5b-d4c96fa9f701",
        "colab": {
          "base_uri": "https://localhost:8080/"
        }
      },
      "source": [
        "sqrt(2)  # mpf(...) stands for an mp-float.  "
      ],
      "execution_count": 69,
      "outputs": [
        {
          "output_type": "execute_result",
          "data": {
            "text/plain": [
              "mpf('1.4142135623730950488016887242096980785696718753769468')"
            ]
          },
          "metadata": {},
          "execution_count": 69
        }
      ]
    },
    {
      "cell_type": "code",
      "metadata": {
        "id": "quMwWJJ3U5yZ",
        "outputId": "ec5e2221-a8b3-42eb-a21c-1bed1406d936",
        "colab": {
          "base_uri": "https://localhost:8080/"
        }
      },
      "source": [
        "type(sqrt(2)) # mpmath stores numbers in its own types!"
      ],
      "execution_count": 70,
      "outputs": [
        {
          "output_type": "execute_result",
          "data": {
            "text/plain": [
              "mpmath.ctx_mp_python.mpf"
            ]
          },
          "metadata": {},
          "execution_count": 70
        }
      ]
    },
    {
      "cell_type": "code",
      "metadata": {
        "id": "3WEkkeNNU5yZ",
        "outputId": "f94bd99a-708d-40ee-e7e1-43c50c33c365",
        "colab": {
          "base_uri": "https://localhost:8080/"
        }
      },
      "source": [
        "4*mp.atan(1) # mpmath has the arctan built in.  This should be pretty close to pi!"
      ],
      "execution_count": 71,
      "outputs": [
        {
          "output_type": "execute_result",
          "data": {
            "text/plain": [
              "mpf('3.1415926535897932384626433832795028841971693993751068')"
            ]
          },
          "metadata": {},
          "execution_count": 71
        }
      ]
    },
    {
      "cell_type": "markdown",
      "metadata": {
        "id": "8oMFGUkiU5yZ"
      },
      "source": [
        "Now try Archimedes' approximation of pi.  Use the mpmath sqrt function along the way.  How many iterations do you need to get pi correct to 100 digits?  Compare this to the arctan-series (not the mpmath atan function) via Machin's formula."
      ]
    },
    {
      "cell_type": "code",
      "metadata": {
        "id": "ulLOs22VU5yZ",
        "outputId": "05dd66ae-824b-4784-fa6c-3283f3c37413",
        "colab": {
          "base_uri": "https://localhost:8080/"
        }
      },
      "source": [
        "#  Explore and experiment.\n",
        "def P(n):\n",
        "    return 2*p(n-1)*P(n-1)/(p(n-1)+P(n-1)) if n != 2 else 8\n",
        "\n",
        "def p(n):\n",
        "    return sqrt(p(n-1)*P(n)) if n != 2 else 4*sqrt(2)\n",
        "\n",
        "print(P(2), p(2))\n",
        "P_10 = P(10)\n",
        "p_10 = p(10)\n",
        "print(math.log(abs(P_10-2*pi)))\n",
        "print(math.log(abs(p_10-2*pi)))"
      ],
      "execution_count": 78,
      "outputs": [
        {
          "output_type": "stream",
          "name": "stdout",
          "text": [
            "8 5.6568542494923801952067548968387923142786875015078\n",
            "-10.834215296796321\n",
            "-11.527366712938232\n"
          ]
        }
      ]
    }
  ]
}