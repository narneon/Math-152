{
  "nbformat": 4,
  "nbformat_minor": 0,
  "metadata": {
    "colab": {
      "provenance": []
    },
    "kernelspec": {
      "name": "python3",
      "display_name": "Python 3"
    },
    "language_info": {
      "name": "python"
    }
  },
  "cells": [
    {
      "cell_type": "markdown",
      "source": [
        " Exploration 1 - Gauss's Circle Conjecture\n",
        " "
      ],
      "metadata": {
        "id": "zH6g8tkTZtk8"
      }
    },
    {
      "cell_type": "code",
      "source": [
        "import math\n",
        "import numpy as np\n",
        "import numpy.polynomial as P\n",
        "import matplotlib.pyplot as plt"
      ],
      "metadata": {
        "id": "u56wWWmtg-di"
      },
      "execution_count": null,
      "outputs": []
    },
    {
      "cell_type": "markdown",
      "source": [
        "We begin with a no optimizations brute force approach that simply parses each $x$ value in the set $\\{0, 1,...,r\\}$, and each $y$ value in the set $\\{1, ..., r\\}$, and checks if $x^2+y^2 < r^2$ and if so adds it as a lattice point. However this only counts the lattice points in one quadrant of the circle, so we multiply the final count by 4, and finally we add 1 for the point $(0, 0)$ which is skipped."
      ],
      "metadata": {
        "id": "ReEnZcTShFGL"
      }
    },
    {
      "cell_type": "code",
      "source": [
        "def bf_L(r):\n",
        "    lattice_points = 0\n",
        "    for i in range(r+1):\n",
        "        for j in range(1,r+1):\n",
        "            if i**2 + j**2 < r**2:\n",
        "                lattice_points += 1\n",
        "    return 4*lattice_points + 1"
      ],
      "metadata": {
        "id": "EronezGAigbg"
      },
      "execution_count": null,
      "outputs": []
    },
    {
      "cell_type": "code",
      "source": [
        "import math\n",
        "\n",
        "def A(r):\n",
        "  return r**2*math.pi\n",
        "\n",
        "\n",
        "def L(r):\n",
        "  i = 1\n",
        "  ans = 0\n",
        "  while(i <= r):\n",
        "    ans += math.floor(math.sqrt(r**2 - i**2)) + 1\n",
        "    i += 1\n",
        "  return 1 + ans * 4\n",
        "\n",
        "\n",
        "def E(r):\n",
        "  return A(r) - L(r)\n"
      ],
      "metadata": {
        "id": "LcnkZiZLann3"
      },
      "execution_count": null,
      "outputs": []
    }
  ]
}